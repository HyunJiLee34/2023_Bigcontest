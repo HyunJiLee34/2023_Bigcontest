{
 "cells": [
  {
   "cell_type": "markdown",
   "id": "9d766809",
   "metadata": {},
   "source": [
    "## Import"
   ]
  },
  {
   "cell_type": "code",
   "execution_count": 1,
   "id": "fbd589f0",
   "metadata": {},
   "outputs": [],
   "source": [
    "import pandas as pd\n",
    "import warnings;warnings.filterwarnings(action='ignore')"
   ]
  },
  {
   "cell_type": "markdown",
   "id": "7bb5433e",
   "metadata": {},
   "source": [
    "## Read data"
   ]
  },
  {
   "cell_type": "code",
   "execution_count": 2,
   "id": "d477d807",
   "metadata": {},
   "outputs": [],
   "source": [
    "data = pd.read_parquet('../data/DataCleansing_final.pqt')"
   ]
  },
  {
   "cell_type": "code",
   "execution_count": 3,
   "id": "cb02108f",
   "metadata": {},
   "outputs": [
    {
     "data": {
      "text/html": [
       "<div>\n",
       "<style scoped>\n",
       "    .dataframe tbody tr th:only-of-type {\n",
       "        vertical-align: middle;\n",
       "    }\n",
       "\n",
       "    .dataframe tbody tr th {\n",
       "        vertical-align: top;\n",
       "    }\n",
       "\n",
       "    .dataframe thead th {\n",
       "        text-align: right;\n",
       "    }\n",
       "</style>\n",
       "<table border=\"1\" class=\"dataframe\">\n",
       "  <thead>\n",
       "    <tr style=\"text-align: right;\">\n",
       "      <th></th>\n",
       "      <th>층</th>\n",
       "      <th>블록</th>\n",
       "      <th>열</th>\n",
       "      <th>좌석번호</th>\n",
       "    </tr>\n",
       "    <tr>\n",
       "      <th>seat_label</th>\n",
       "      <th></th>\n",
       "      <th></th>\n",
       "      <th></th>\n",
       "      <th></th>\n",
       "    </tr>\n",
       "  </thead>\n",
       "  <tbody>\n",
       "    <tr>\n",
       "      <th>0</th>\n",
       "      <td>1</td>\n",
       "      <td>A</td>\n",
       "      <td>1</td>\n",
       "      <td>1</td>\n",
       "    </tr>\n",
       "    <tr>\n",
       "      <th>1</th>\n",
       "      <td>1</td>\n",
       "      <td>A</td>\n",
       "      <td>1</td>\n",
       "      <td>2</td>\n",
       "    </tr>\n",
       "    <tr>\n",
       "      <th>2</th>\n",
       "      <td>1</td>\n",
       "      <td>A</td>\n",
       "      <td>1</td>\n",
       "      <td>3</td>\n",
       "    </tr>\n",
       "    <tr>\n",
       "      <th>3</th>\n",
       "      <td>1</td>\n",
       "      <td>A</td>\n",
       "      <td>1</td>\n",
       "      <td>4</td>\n",
       "    </tr>\n",
       "    <tr>\n",
       "      <th>4</th>\n",
       "      <td>1</td>\n",
       "      <td>A</td>\n",
       "      <td>1</td>\n",
       "      <td>5</td>\n",
       "    </tr>\n",
       "    <tr>\n",
       "      <th>...</th>\n",
       "      <td>...</td>\n",
       "      <td>...</td>\n",
       "      <td>...</td>\n",
       "      <td>...</td>\n",
       "    </tr>\n",
       "    <tr>\n",
       "      <th>2504</th>\n",
       "      <td>합창석</td>\n",
       "      <td>H</td>\n",
       "      <td>4</td>\n",
       "      <td>5</td>\n",
       "    </tr>\n",
       "    <tr>\n",
       "      <th>2505</th>\n",
       "      <td>합창석</td>\n",
       "      <td>H</td>\n",
       "      <td>4</td>\n",
       "      <td>6</td>\n",
       "    </tr>\n",
       "    <tr>\n",
       "      <th>2506</th>\n",
       "      <td>합창석</td>\n",
       "      <td>H</td>\n",
       "      <td>4</td>\n",
       "      <td>7</td>\n",
       "    </tr>\n",
       "    <tr>\n",
       "      <th>2507</th>\n",
       "      <td>합창석</td>\n",
       "      <td>H</td>\n",
       "      <td>4</td>\n",
       "      <td>8</td>\n",
       "    </tr>\n",
       "    <tr>\n",
       "      <th>2508</th>\n",
       "      <td>합창석</td>\n",
       "      <td>H</td>\n",
       "      <td>4</td>\n",
       "      <td>9</td>\n",
       "    </tr>\n",
       "  </tbody>\n",
       "</table>\n",
       "<p>2509 rows × 4 columns</p>\n",
       "</div>"
      ],
      "text/plain": [
       "              층 블록  열 좌석번호\n",
       "seat_label                \n",
       "0             1  A  1    1\n",
       "1             1  A  1    2\n",
       "2             1  A  1    3\n",
       "3             1  A  1    4\n",
       "4             1  A  1    5\n",
       "...         ... .. ..  ...\n",
       "2504        합창석  H  4    5\n",
       "2505        합창석  H  4    6\n",
       "2506        합창석  H  4    7\n",
       "2507        합창석  H  4    8\n",
       "2508        합창석  H  4    9\n",
       "\n",
       "[2509 rows x 4 columns]"
      ]
     },
     "execution_count": 3,
     "metadata": {},
     "output_type": "execute_result"
    }
   ],
   "source": [
    "seat = data.drop_duplicates('seat_label').set_index('seat_label').sort_index()[['층','블록','열','좌석번호']]\n",
    "seat"
   ]
  },
  {
   "cell_type": "markdown",
   "id": "4ea3a716",
   "metadata": {},
   "source": [
    "#### $\\blacktriangleright$ 층"
   ]
  },
  {
   "cell_type": "code",
   "execution_count": 4,
   "id": "e703751f",
   "metadata": {},
   "outputs": [],
   "source": [
    "seat = pd.concat([seat, pd.get_dummies(seat['층'], dtype=int, prefix='층')], axis=1)"
   ]
  },
  {
   "cell_type": "markdown",
   "id": "c78d34de",
   "metadata": {},
   "source": [
    "#### $\\blacktriangleright$ 블록<br>\n",
    "<img src=\"../1. Domain search & EDA/image/블록_정보.jpg\" width=70%>"
   ]
  },
  {
   "cell_type": "markdown",
   "id": "2e4524f5",
   "metadata": {},
   "source": [
    "- BOX석"
   ]
  },
  {
   "cell_type": "code",
   "execution_count": 5,
   "id": "4dcba61e",
   "metadata": {},
   "outputs": [],
   "source": [
    "seat['BOX'] = seat['블록'].str.contains('BOX').astype(int)"
   ]
  },
  {
   "cell_type": "markdown",
   "id": "2be7387a",
   "metadata": {},
   "source": [
    "- 사이드 블록\n",
    "  - 1층 A,E블록 \n",
    "  - 2층 A,E블록 \n",
    "  - 3층 A,G블록"
   ]
  },
  {
   "cell_type": "code",
   "execution_count": 6,
   "id": "9f54340e",
   "metadata": {},
   "outputs": [],
   "source": [
    "seat['side_seats'] = seat[['층','블록']].apply(lambda x: 1 if x[0] in [\"1\",\"2\"] and x[1] in ['A','E'] else\n",
    "                                                          1 if x[0] == \"3\" and x[1] in ['A','G'] else 0, axis=1)"
   ]
  },
  {
   "cell_type": "markdown",
   "id": "f1fb0cfa",
   "metadata": {},
   "source": [
    "- 왼쪽/중앙/오른쪽 블록"
   ]
  },
  {
   "cell_type": "code",
   "execution_count": 7,
   "id": "328caf5a",
   "metadata": {},
   "outputs": [],
   "source": [
    "seat['middle'] = seat[['층','블록']].apply(lambda x: 1 if tuple(x) in [(\"1\",\"C\"),(\"2\",\"C\"),(\"3\",\"D\")] else 0, axis=1)\n",
    "seat['left'] = seat[['층','블록']].apply(lambda x: 1 if tuple(x) in [(\"1\",\"B\"),(\"2\",\"B\"),(\"3\",\"B\"),(\"3\",\"C\")] else 0, axis=1)\n",
    "seat['right'] = seat[['층','블록']].apply(lambda x: 1 if tuple(x) in [(\"1\",\"D\"),(\"2\",\"D\"),(\"3\",\"E\"),(\"3\",\"F\")] else 0, axis=1)"
   ]
  },
  {
   "cell_type": "markdown",
   "id": "1b94b88d",
   "metadata": {},
   "source": [
    "#### $\\blacktriangleright$ 열"
   ]
  },
  {
   "cell_type": "markdown",
   "id": "8c68a9b0",
   "metadata": {},
   "source": [
    "- BOX석 열 정보 생성"
   ]
  },
  {
   "cell_type": "code",
   "execution_count": 8,
   "id": "07f52954",
   "metadata": {},
   "outputs": [],
   "source": [
    "# BOX석의 열 정보를 클래식홀 배치도를 바탕으로 생성한다.\n",
    "seat['좌석번호'] = seat['좌석번호'].astype(int)\n",
    "box = seat[seat.블록.str.contains('BOX')]\n",
    "box['열'] = box[['층','좌석번호']].apply(lambda x: (x[1]-1)//2+1 if x[0]==\"2\" else (x[1]-1)//3+1, axis=1)\\\n",
    "            .apply(lambda x: x if x <= 5 else None)\n",
    "seat = pd.concat([seat.loc[[i for i in seat.index if i not in box.index]], box]).sort_index()"
   ]
  },
  {
   "cell_type": "markdown",
   "id": "bb76fb57",
   "metadata": {},
   "source": [
    "- 앞쪽/중간/뒤쪽 열"
   ]
  },
  {
   "cell_type": "code",
   "execution_count": 9,
   "id": "8d65c5e3",
   "metadata": {},
   "outputs": [],
   "source": [
    "seat['열'] = seat['열'].astype(int)\n",
    "seat['front'] = seat[['층','열']].apply(lambda x: 1 if x[0]==\"1\" and x[1] <= 5 else\n",
    "                                                   1 if x[0]==\"2\" and x[1] <= 3 else\n",
    "                                                   1 if x[0]==\"3\" and x[1] <= 5 else 0, axis=1)\n",
    "seat['mid'] = seat[['층','열']].apply(lambda x: 1 if x[0]==\"1\" and 6 <= x[1] <= 13 else 0, axis=1)\n",
    "seat['back'] = seat[['층','열']].apply(lambda x: 1 if x[0]==\"1\" and x[1] >= 14else\n",
    "                                                   1 if x[0]==\"2\" and x[1] >= 4 else\n",
    "                                                   1 if x[0]==\"3\" and x[1] >= 6 else 0, axis=1)"
   ]
  },
  {
   "cell_type": "markdown",
   "id": "75dd84ff",
   "metadata": {},
   "source": [
    "- 앞쪽 중앙열"
   ]
  },
  {
   "cell_type": "code",
   "execution_count": 10,
   "id": "c9a9c1a8",
   "metadata": {},
   "outputs": [],
   "source": [
    "seat['front_mid'] = seat[['층','블록','열']].apply(lambda x: 1 if x[0]==\"1\" and x[1] in [\"B\",\"C\",\"D\"] and x[2] <= 5 else 0, axis=1)"
   ]
  },
  {
   "cell_type": "markdown",
   "id": "e8133275",
   "metadata": {},
   "source": [
    "- 3층"
   ]
  },
  {
   "cell_type": "code",
   "execution_count": 11,
   "id": "8abfb714",
   "metadata": {},
   "outputs": [],
   "source": [
    "# 3층 열들이 4부터 시작하는 것으로 되어있기에 1부터 시작하도록 바꾼다.\n",
    "seat['열'] = seat[['층','블록','열']].apply(lambda x: x[2]-3 if x[0]=='3' and x[1] in ['B','C','D','E','F'] else x[2], axis=1)"
   ]
  },
  {
   "cell_type": "markdown",
   "id": "5e0e77e7",
   "metadata": {},
   "source": [
    "- 블록 내 위치"
   ]
  },
  {
   "cell_type": "code",
   "execution_count": 12,
   "id": "9a5542f7",
   "metadata": {},
   "outputs": [],
   "source": [
    "ease = seat.groupby(['층','블록'])['열'].nunique().rename('블록길이')\n",
    "\n",
    "# 클래식홀 전개도를 바탕으로 값 수정\n",
    "ease.loc[[(\"1\",\"A\"),(\"1\",\"E\")]] = 22\n",
    "ease = seat[['층','블록','열']].reset_index().merge(ease, on=['층','블록']).set_index('seat_label')\n",
    "seat['row_ratio'] = ease['열']/ease['블록길이']"
   ]
  },
  {
   "cell_type": "markdown",
   "id": "8859996b",
   "metadata": {},
   "source": [
    "#### $\\blacktriangleright$ 특수 좌석"
   ]
  },
  {
   "cell_type": "markdown",
   "id": "f5e1b452",
   "metadata": {},
   "source": [
    "- 피아노뷰 통로 좌석\n",
    "  - 1층 B,C블록 통로 좌석 (8열~15열)\n",
    "  - 2층 B블록 앞줄 왼쪽편 (1열~5열) "
   ]
  },
  {
   "cell_type": "code",
   "execution_count": 13,
   "id": "c08e432c",
   "metadata": {},
   "outputs": [],
   "source": [
    "seat['piano_hallway'] = seat[['층','블록','열','좌석번호']]\\\n",
    "                        .apply(lambda x: 1 if x[0]==\"1\" and x[1]==\"B\" and 8<=x[2]<=10 and 10<=x[3]<=11 else\n",
    "                                          1 if x[0]==\"1\" and x[1]==\"B\" and 11<=x[2]<=14 and 11<=x[3]<=12 else\n",
    "                                          1 if x[0]==\"1\" and x[1]==\"B\" and x[2]==15 and 12<=x[3]<=13 else\n",
    "                                          1 if x[0]==\"1\" and x[1]==\"C\" and 8<=x[2]<=15 and 1<=x[3]<=2 else 0, axis=1)"
   ]
  },
  {
   "cell_type": "markdown",
   "id": "ee240a5c",
   "metadata": {},
   "source": [
    "- 풍부한 소리가 들리는 좌석"
   ]
  },
  {
   "cell_type": "code",
   "execution_count": 14,
   "id": "6f1679a6",
   "metadata": {},
   "outputs": [],
   "source": [
    "seat['sound_quality'] = seat[['층','블록','열']]\\\n",
    "                        .apply(lambda x: 1 if x[0]==\"1\" and x[1] in [\"B\",\"C\",\"D\"] and 8<=x[2]<=14 else 0, axis=1)"
   ]
  },
  {
   "cell_type": "markdown",
   "id": "7e3f4c19",
   "metadata": {},
   "source": [
    "- 발을 뻗을 수 있는 좌석"
   ]
  },
  {
   "cell_type": "code",
   "execution_count": 15,
   "id": "4c42f257",
   "metadata": {},
   "outputs": [],
   "source": [
    "seat['leg_free'] = seat[['층','블록','열']].apply(lambda x: 1 if x[0]==\"1\" and x[1] in [\"A\",\"E\"] and x[2]==15 else 0, axis=1)"
   ]
  },
  {
   "cell_type": "markdown",
   "id": "b6b6bb0c",
   "metadata": {},
   "source": [
    "- 3층 시야방해좌석"
   ]
  },
  {
   "cell_type": "code",
   "execution_count": 16,
   "id": "e11e8616",
   "metadata": {},
   "outputs": [],
   "source": [
    "seat['3rd_bad'] = seat[['층','블록']].apply(lambda x: 1 if x[0]==\"3\" and x[1] in [\"N\",\"M\"] else 0, axis=1)"
   ]
  },
  {
   "cell_type": "markdown",
   "id": "ddc5946a",
   "metadata": {},
   "source": [
    "- 소리가 먹히는 좌석"
   ]
  },
  {
   "cell_type": "code",
   "execution_count": 17,
   "id": "b414ff5a",
   "metadata": {},
   "outputs": [],
   "source": [
    "seat['bad_sound'] = seat[['층','블록','열']]\\\n",
    "                    .apply(lambda x: 1 if x[0]==\"1\" and x[1] in [\"A\",\"B\",'C','D','E'] and 17<=x[2]<=22 else 0, axis=1)"
   ]
  },
  {
   "cell_type": "markdown",
   "id": "d5556337",
   "metadata": {},
   "source": [
    "- 가수 얼굴이 보이는 좌석"
   ]
  },
  {
   "cell_type": "code",
   "execution_count": 18,
   "id": "e632ba9d",
   "metadata": {},
   "outputs": [],
   "source": [
    "seat['singer_face'] = seat[['층','블록','열']]\\\n",
    "                     .apply(lambda x: 1 if x[0]==\"1\" and x[1] in [\"A\",\"B\",\"C\",\"D\"] and x[2]<=5 else 0, axis=1)"
   ]
  },
  {
   "cell_type": "markdown",
   "id": "72cd1444",
   "metadata": {},
   "source": [
    "- 지휘자 등만보는좌석"
   ]
  },
  {
   "cell_type": "code",
   "execution_count": 19,
   "id": "42a80fa9",
   "metadata": {},
   "outputs": [],
   "source": [
    "seat['conductor_back'] = seat[['층','블록']].apply(lambda x: 1 if x[0]==\"2\" and x[1]==\"E\" else 0, axis=1)"
   ]
  },
  {
   "cell_type": "markdown",
   "id": "a14a4f39",
   "metadata": {},
   "source": [
    "## Merge data"
   ]
  },
  {
   "cell_type": "code",
   "execution_count": 20,
   "id": "6d4f610e",
   "metadata": {},
   "outputs": [
    {
     "name": "stdout",
     "output_type": "stream",
     "text": [
      "데이터 크기: (924321, 66)\n"
     ]
    }
   ],
   "source": [
    "data = pd.merge(data.drop(['층','블록','열','좌석번호'], axis=1), seat.reset_index(), on='seat_label')\n",
    "print(f'데이터 크기: {data.shape}')"
   ]
  },
  {
   "cell_type": "markdown",
   "id": "d52cf161",
   "metadata": {},
   "source": [
    "## Save data"
   ]
  },
  {
   "cell_type": "code",
   "execution_count": 21,
   "id": "33911abf",
   "metadata": {},
   "outputs": [],
   "source": [
    "data.to_parquet('../data/DataCleansing_final.pqt')"
   ]
  },
  {
   "cell_type": "code",
   "execution_count": null,
   "id": "07006aef",
   "metadata": {},
   "outputs": [],
   "source": []
  }
 ],
 "metadata": {
  "kernelspec": {
   "display_name": "Python 3 (ipykernel)",
   "language": "python",
   "name": "python3"
  },
  "language_info": {
   "codemirror_mode": {
    "name": "ipython",
    "version": 3
   },
   "file_extension": ".py",
   "mimetype": "text/x-python",
   "name": "python",
   "nbconvert_exporter": "python",
   "pygments_lexer": "ipython3",
   "version": "3.9.12"
  }
 },
 "nbformat": 4,
 "nbformat_minor": 5
}
