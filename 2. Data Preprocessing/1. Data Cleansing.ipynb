{
 "cells": [
  {
   "cell_type": "markdown",
   "id": "4f9a73ca",
   "metadata": {},
   "source": [
    "### Import"
   ]
  },
  {
   "cell_type": "code",
   "execution_count": 1,
   "id": "ff28e04f",
   "metadata": {},
   "outputs": [],
   "source": [
    "import pandas as pd\n",
    "import numpy as np\n",
    "from sklearn.preprocessing import MinMaxScaler\n",
    "import warnings;warnings.filterwarnings(action='ignore')"
   ]
  },
  {
   "cell_type": "markdown",
   "id": "58963cce",
   "metadata": {},
   "source": [
    "### Read data\n",
    "한 행은 한 건의 공연티켓 예매 정보이다. 콘서트홀의 클래식 공연만을 분석 대상으로 삼는다."
   ]
  },
  {
   "cell_type": "code",
   "execution_count": 2,
   "id": "c19a051f",
   "metadata": {},
   "outputs": [
    {
     "data": {
      "text/plain": [
       "(1009551, 23)"
      ]
     },
     "execution_count": 2,
     "metadata": {},
     "output_type": "execute_result"
    }
   ],
   "source": [
    "classic = ['교향곡', '클래식', '합창', '독주', '성악', '실내악']\n",
    "data = pd.read_csv('../data/2023빅콘테스트_어드밴스드리그_예술의전당.csv',\n",
    "                   parse_dates=['tran_date', 'play_date', 'pre_open_date', 'open_date'])\\\n",
    "       .query('place==\"콘서트홀\" and genre in @classic').reset_index(drop=True)\n",
    "data.drop('place', axis=1, inplace=True)\n",
    "data.shape"
   ]
  },
  {
   "cell_type": "markdown",
   "id": "4f3a5cf0",
   "metadata": {},
   "source": [
    "### <font color='firebrick'>결측치\n",
    "- 공연 정보(pre_open_date) 결측치가 있다.<br>\n",
    "  $\\bullet$ pre_open_date의 결측은 선예매 서비스를 제공하지 않았다고 해석한다."
   ]
  },
  {
   "cell_type": "code",
   "execution_count": 3,
   "id": "64b143c1",
   "metadata": {},
   "outputs": [
    {
     "data": {
      "text/plain": [
       "age                   551777\n",
       "gender                551469\n",
       "membership_type_1     551469\n",
       "membership_type_2     639139\n",
       "membership_type_3     874253\n",
       "membership_type_4     985052\n",
       "membership_type_5    1008466\n",
       "membership_type_6    1009551\n",
       "tran_date                  0\n",
       "tran_time                  0\n",
       "play_date                  0\n",
       "play_st_time               0\n",
       "seat                       0\n",
       "price                      0\n",
       "ticket_cancel              0\n",
       "discount_type              0\n",
       "performance_code           0\n",
       "pre_open_date         366280\n",
       "open_date                  0\n",
       "genre                      0\n",
       "running_time               0\n",
       "intermission               0\n",
       "member_yn                  0\n",
       "dtype: int64"
      ]
     },
     "execution_count": 3,
     "metadata": {},
     "output_type": "execute_result"
    }
   ],
   "source": [
    "# 결측치 분포\n",
    "data.isna().sum()"
   ]
  },
  {
   "cell_type": "markdown",
   "id": "a1747915",
   "metadata": {},
   "source": [
    "- 회원 정보(age, gender, membership_type) 결측치가 있다.<br>\n",
    "  $\\bullet$ 회원으로 결측이 없는 데이터(468469)<br>\n",
    "  $\\bullet$ 비회원이며 멤버십을 가입하지 않아 회원 정보가 모두 결측인 데이터(586393)<br>\n",
    "  $\\bullet$ `비회원이나 멤버십을 가입하여 membership_type과 멤버십 가입 시 묻는 gender는 결측이 없는 데이터(314)`\n",
    "  - 가설1)회원이었으나 탈퇴/만료 회원이 되어 멤버십 정보가 있으나 비회원으로 표기된 데이터이다.\n",
    "  - 가설2)개인정보 제공동의가 만료된 데이터이다.<br>\n",
    "    $\\bullet$ \"개인정보의 보유 및 이용기간은 최종 로그인 기준 1년이며, <br>\n",
    "    $~~$ 예술의전당 이용고객(유료회원, 입장권 구매, 수강신청)은 최종 이용일 기준 5년입니다.\"\n",
    "  - 가설3)단순 데이터 오류다."
   ]
  },
  {
   "cell_type": "code",
   "execution_count": 4,
   "id": "c3946ce3",
   "metadata": {},
   "outputs": [
    {
     "name": "stdout",
     "output_type": "stream",
     "text": [
      "회원 예매내역: 457774, 비회원 예매내역: 551777\n"
     ]
    }
   ],
   "source": [
    "member, notmember = data.query('member_yn==\"Y\"').iloc[:,:8], data.query('member_yn==\"N\"').iloc[:,:8]\n",
    "print(f'회원 예매내역: {member.shape[0]}, 비회원 예매내역: {notmember.shape[0]}')"
   ]
  },
  {
   "cell_type": "code",
   "execution_count": 5,
   "id": "978174e1",
   "metadata": {},
   "outputs": [
    {
     "data": {
      "text/plain": [
       "age                       0\n",
       "gender                    0\n",
       "membership_type_1         0\n",
       "membership_type_2     87637\n",
       "membership_type_3    322522\n",
       "membership_type_4    433277\n",
       "membership_type_5    456689\n",
       "membership_type_6    457774\n",
       "dtype: int64"
      ]
     },
     "execution_count": 5,
     "metadata": {},
     "output_type": "execute_result"
    }
   ],
   "source": [
    "# 회원이면 나이, 성별, 멤버십 정보가 있다.\n",
    "member.isna().sum()"
   ]
  },
  {
   "cell_type": "code",
   "execution_count": 6,
   "id": "d2bfadff",
   "metadata": {},
   "outputs": [
    {
     "data": {
      "text/plain": [
       "age                  551469\n",
       "gender               551469\n",
       "membership_type_1    551469\n",
       "membership_type_2    551469\n",
       "membership_type_3    551469\n",
       "membership_type_4    551469\n",
       "membership_type_5    551469\n",
       "membership_type_6    551469\n",
       "dtype: int64"
      ]
     },
     "execution_count": 6,
     "metadata": {},
     "output_type": "execute_result"
    }
   ],
   "source": [
    "# 비회원 중 멤버십 가입이 이루어지지 않은 이의 구매내역이다.\n",
    "notmember.loc[notmember['gender'].isna()].isna().sum()"
   ]
  },
  {
   "cell_type": "code",
   "execution_count": 7,
   "id": "70bf9d2a",
   "metadata": {},
   "outputs": [
    {
     "name": "stdout",
     "output_type": "stream",
     "text": [
      "비회원인데 멤버십 정보가 있는 데이터수:  308\n"
     ]
    },
    {
     "data": {
      "text/html": [
       "<div>\n",
       "<style scoped>\n",
       "    .dataframe tbody tr th:only-of-type {\n",
       "        vertical-align: middle;\n",
       "    }\n",
       "\n",
       "    .dataframe tbody tr th {\n",
       "        vertical-align: top;\n",
       "    }\n",
       "\n",
       "    .dataframe thead th {\n",
       "        text-align: right;\n",
       "    }\n",
       "</style>\n",
       "<table border=\"1\" class=\"dataframe\">\n",
       "  <thead>\n",
       "    <tr style=\"text-align: right;\">\n",
       "      <th></th>\n",
       "      <th>membership_type_1</th>\n",
       "      <th>membership_type_2</th>\n",
       "      <th>membership_type_3</th>\n",
       "      <th>membership_type_4</th>\n",
       "      <th>membership_type_5</th>\n",
       "      <th>membership_type_6</th>\n",
       "    </tr>\n",
       "  </thead>\n",
       "  <tbody>\n",
       "    <tr>\n",
       "      <th>5</th>\n",
       "      <td>블루</td>\n",
       "      <td>무료</td>\n",
       "      <td>NaN</td>\n",
       "      <td>NaN</td>\n",
       "      <td>NaN</td>\n",
       "      <td>NaN</td>\n",
       "    </tr>\n",
       "    <tr>\n",
       "      <th>11745</th>\n",
       "      <td>골드</td>\n",
       "      <td>무료</td>\n",
       "      <td>노블</td>\n",
       "      <td>NaN</td>\n",
       "      <td>NaN</td>\n",
       "      <td>NaN</td>\n",
       "    </tr>\n",
       "    <tr>\n",
       "      <th>18821</th>\n",
       "      <td>블루</td>\n",
       "      <td>골드</td>\n",
       "      <td>무료</td>\n",
       "      <td>노블</td>\n",
       "      <td>NaN</td>\n",
       "      <td>NaN</td>\n",
       "    </tr>\n",
       "    <tr>\n",
       "      <th>19683</th>\n",
       "      <td>무료</td>\n",
       "      <td>노블</td>\n",
       "      <td>NaN</td>\n",
       "      <td>NaN</td>\n",
       "      <td>NaN</td>\n",
       "      <td>NaN</td>\n",
       "    </tr>\n",
       "    <tr>\n",
       "      <th>20285</th>\n",
       "      <td>무료</td>\n",
       "      <td>NaN</td>\n",
       "      <td>NaN</td>\n",
       "      <td>NaN</td>\n",
       "      <td>NaN</td>\n",
       "      <td>NaN</td>\n",
       "    </tr>\n",
       "    <tr>\n",
       "      <th>49502</th>\n",
       "      <td>골드</td>\n",
       "      <td>무료</td>\n",
       "      <td>NaN</td>\n",
       "      <td>NaN</td>\n",
       "      <td>NaN</td>\n",
       "      <td>NaN</td>\n",
       "    </tr>\n",
       "    <tr>\n",
       "      <th>107693</th>\n",
       "      <td>블루</td>\n",
       "      <td>골드</td>\n",
       "      <td>무료</td>\n",
       "      <td>그린</td>\n",
       "      <td>NaN</td>\n",
       "      <td>NaN</td>\n",
       "    </tr>\n",
       "    <tr>\n",
       "      <th>118193</th>\n",
       "      <td>블루</td>\n",
       "      <td>골드</td>\n",
       "      <td>무료</td>\n",
       "      <td>NaN</td>\n",
       "      <td>NaN</td>\n",
       "      <td>NaN</td>\n",
       "    </tr>\n",
       "    <tr>\n",
       "      <th>124729</th>\n",
       "      <td>무료</td>\n",
       "      <td>싹틔우미</td>\n",
       "      <td>NaN</td>\n",
       "      <td>NaN</td>\n",
       "      <td>NaN</td>\n",
       "      <td>NaN</td>\n",
       "    </tr>\n",
       "    <tr>\n",
       "      <th>140112</th>\n",
       "      <td>블루</td>\n",
       "      <td>무료</td>\n",
       "      <td>그린</td>\n",
       "      <td>NaN</td>\n",
       "      <td>NaN</td>\n",
       "      <td>NaN</td>\n",
       "    </tr>\n",
       "    <tr>\n",
       "      <th>255046</th>\n",
       "      <td>무료</td>\n",
       "      <td>그린</td>\n",
       "      <td>NaN</td>\n",
       "      <td>NaN</td>\n",
       "      <td>NaN</td>\n",
       "      <td>NaN</td>\n",
       "    </tr>\n",
       "    <tr>\n",
       "      <th>522314</th>\n",
       "      <td>블루</td>\n",
       "      <td>무료</td>\n",
       "      <td>노블</td>\n",
       "      <td>NaN</td>\n",
       "      <td>NaN</td>\n",
       "      <td>NaN</td>\n",
       "    </tr>\n",
       "    <tr>\n",
       "      <th>709229</th>\n",
       "      <td>무료</td>\n",
       "      <td>노블</td>\n",
       "      <td>그린</td>\n",
       "      <td>NaN</td>\n",
       "      <td>NaN</td>\n",
       "      <td>NaN</td>\n",
       "    </tr>\n",
       "  </tbody>\n",
       "</table>\n",
       "</div>"
      ],
      "text/plain": [
       "       membership_type_1 membership_type_2 membership_type_3  \\\n",
       "5                     블루                무료               NaN   \n",
       "11745                 골드                무료                노블   \n",
       "18821                 블루                골드                무료   \n",
       "19683                 무료                노블               NaN   \n",
       "20285                 무료               NaN               NaN   \n",
       "49502                 골드                무료               NaN   \n",
       "107693                블루                골드                무료   \n",
       "118193                블루                골드                무료   \n",
       "124729                무료              싹틔우미               NaN   \n",
       "140112                블루                무료                그린   \n",
       "255046                무료                그린               NaN   \n",
       "522314                블루                무료                노블   \n",
       "709229                무료                노블                그린   \n",
       "\n",
       "       membership_type_4 membership_type_5  membership_type_6  \n",
       "5                    NaN               NaN                NaN  \n",
       "11745                NaN               NaN                NaN  \n",
       "18821                 노블               NaN                NaN  \n",
       "19683                NaN               NaN                NaN  \n",
       "20285                NaN               NaN                NaN  \n",
       "49502                NaN               NaN                NaN  \n",
       "107693                그린               NaN                NaN  \n",
       "118193               NaN               NaN                NaN  \n",
       "124729               NaN               NaN                NaN  \n",
       "140112               NaN               NaN                NaN  \n",
       "255046               NaN               NaN                NaN  \n",
       "522314               NaN               NaN                NaN  \n",
       "709229               NaN               NaN                NaN  "
      ]
     },
     "execution_count": 7,
     "metadata": {},
     "output_type": "execute_result"
    }
   ],
   "source": [
    "# 비회원이면 나이 정보가 없으며 성별, 멤버십 정보가 있는 예매 건수가 조금 있다.\n",
    "'''비회원인데 유료회원에 가입되어 있는 것이 440건에 불과함에 상세히 분석하지 않고 제거하도록 한다.'''\n",
    "print('비회원인데 멤버십 정보가 있는 데이터수: ', notmember.loc[notmember['gender'].notna()].shape[0])\n",
    "notmember.loc[notmember['gender'].notna()].iloc[:,2:8].drop_duplicates()\n",
    "\n",
    "# 성별과 멤버십 데이터수가 같은 것을 보아 멤버십 가입 시 성별을 반드시 기입해야 한다고 볼 수 있다.\n",
    "# notmember.isna().sum()"
   ]
  },
  {
   "cell_type": "code",
   "execution_count": 8,
   "id": "a0bb8ce2",
   "metadata": {},
   "outputs": [
    {
     "data": {
      "text/plain": [
       "(1009243, 23)"
      ]
     },
     "execution_count": 8,
     "metadata": {},
     "output_type": "execute_result"
    }
   ],
   "source": [
    "data = data.drop(notmember.loc[notmember['gender'].notna()].index).reset_index(drop=True)\n",
    "data.shape"
   ]
  },
  {
   "cell_type": "markdown",
   "id": "a6226104",
   "metadata": {},
   "source": [
    "### <font color=\"firebrick\">변수 정리\n",
    "기존 변수를 정의를 고려하여 새롭게 정리한다.\n",
    "- member_yn 정의는 230826_DataCleansing에서 진행했음으로 언급하지 않는다.\n",
    "- membership_type 구조는 아래와 같다.\n",
    "  - 예술의 전당을 통해 예매하기 위해선 무료회원에 가입해야 하며 <br>\n",
    "    무료회원 3개는 싹틔우미([무료, 싹틔우미(11)])와 일반([무료(12)]), 노블([무료, 노블(8)])로 표현되어 있다.\n",
    "  - 유료회원 혜택이 중복(누적) 적용되기에 무료회원에 그린, 블루, 골드회원까지 가입하는데 제한이 없다. 최대 membership_type5열로 회원제를 표현한다.\n",
    "  - 유료회원 중 법인회원은 discount_type이 `골드회원(법인A)`로 표현되어 있다.\n",
    "  - [참고] https://www.sac.or.kr/site/main/membership/member_step"
   ]
  },
  {
   "cell_type": "code",
   "execution_count": 9,
   "id": "e4bf8219",
   "metadata": {},
   "outputs": [],
   "source": [
    "# 중복으로 가입해도 무료, 싹틔우미/노블, 그린, 블루, 골드로 membership_type_6는 불필요한 column이다.\n",
    "data.drop('membership_type_6', axis=1, inplace=True)"
   ]
  },
  {
   "cell_type": "code",
   "execution_count": 10,
   "id": "25cf6eca",
   "metadata": {},
   "outputs": [
    {
     "data": {
      "text/html": [
       "<div>\n",
       "<style scoped>\n",
       "    .dataframe tbody tr th:only-of-type {\n",
       "        vertical-align: middle;\n",
       "    }\n",
       "\n",
       "    .dataframe tbody tr th {\n",
       "        vertical-align: top;\n",
       "    }\n",
       "\n",
       "    .dataframe thead th {\n",
       "        text-align: right;\n",
       "    }\n",
       "</style>\n",
       "<table border=\"1\" class=\"dataframe\">\n",
       "  <thead>\n",
       "    <tr style=\"text-align: right;\">\n",
       "      <th></th>\n",
       "      <th>membership_type_1</th>\n",
       "      <th>membership_type_2</th>\n",
       "      <th>membership_type_3</th>\n",
       "      <th>membership_type_4</th>\n",
       "      <th>membership_type_5</th>\n",
       "    </tr>\n",
       "  </thead>\n",
       "  <tbody>\n",
       "    <tr>\n",
       "      <th>0</th>\n",
       "      <td>골드</td>\n",
       "      <td>무료</td>\n",
       "      <td>그린</td>\n",
       "      <td>NaN</td>\n",
       "      <td>NaN</td>\n",
       "    </tr>\n",
       "    <tr>\n",
       "      <th>1</th>\n",
       "      <td>골드</td>\n",
       "      <td>무료</td>\n",
       "      <td>노블</td>\n",
       "      <td>그린</td>\n",
       "      <td>NaN</td>\n",
       "    </tr>\n",
       "    <tr>\n",
       "      <th>2</th>\n",
       "      <td>골드</td>\n",
       "      <td>무료</td>\n",
       "      <td>노블</td>\n",
       "      <td>NaN</td>\n",
       "      <td>NaN</td>\n",
       "    </tr>\n",
       "    <tr>\n",
       "      <th>3</th>\n",
       "      <td>골드</td>\n",
       "      <td>무료</td>\n",
       "      <td>싹틔우미</td>\n",
       "      <td>그린</td>\n",
       "      <td>NaN</td>\n",
       "    </tr>\n",
       "    <tr>\n",
       "      <th>4</th>\n",
       "      <td>골드</td>\n",
       "      <td>무료</td>\n",
       "      <td>싹틔우미</td>\n",
       "      <td>NaN</td>\n",
       "      <td>NaN</td>\n",
       "    </tr>\n",
       "    <tr>\n",
       "      <th>5</th>\n",
       "      <td>골드</td>\n",
       "      <td>무료</td>\n",
       "      <td>NaN</td>\n",
       "      <td>NaN</td>\n",
       "      <td>NaN</td>\n",
       "    </tr>\n",
       "    <tr>\n",
       "      <th>6</th>\n",
       "      <td>무료</td>\n",
       "      <td>그린</td>\n",
       "      <td>NaN</td>\n",
       "      <td>NaN</td>\n",
       "      <td>NaN</td>\n",
       "    </tr>\n",
       "    <tr>\n",
       "      <th>7</th>\n",
       "      <td>무료</td>\n",
       "      <td>노블</td>\n",
       "      <td>그린</td>\n",
       "      <td>NaN</td>\n",
       "      <td>NaN</td>\n",
       "    </tr>\n",
       "    <tr>\n",
       "      <th>8</th>\n",
       "      <td>무료</td>\n",
       "      <td>노블</td>\n",
       "      <td>NaN</td>\n",
       "      <td>NaN</td>\n",
       "      <td>NaN</td>\n",
       "    </tr>\n",
       "    <tr>\n",
       "      <th>9</th>\n",
       "      <td>무료</td>\n",
       "      <td>싹틔우미</td>\n",
       "      <td>그린</td>\n",
       "      <td>NaN</td>\n",
       "      <td>NaN</td>\n",
       "    </tr>\n",
       "    <tr>\n",
       "      <th>10</th>\n",
       "      <td>무료</td>\n",
       "      <td>싹틔우미</td>\n",
       "      <td>NaN</td>\n",
       "      <td>NaN</td>\n",
       "      <td>NaN</td>\n",
       "    </tr>\n",
       "    <tr>\n",
       "      <th>11</th>\n",
       "      <td>무료</td>\n",
       "      <td>NaN</td>\n",
       "      <td>NaN</td>\n",
       "      <td>NaN</td>\n",
       "      <td>NaN</td>\n",
       "    </tr>\n",
       "    <tr>\n",
       "      <th>12</th>\n",
       "      <td>블루</td>\n",
       "      <td>골드</td>\n",
       "      <td>무료</td>\n",
       "      <td>그린</td>\n",
       "      <td>NaN</td>\n",
       "    </tr>\n",
       "    <tr>\n",
       "      <th>13</th>\n",
       "      <td>블루</td>\n",
       "      <td>골드</td>\n",
       "      <td>무료</td>\n",
       "      <td>노블</td>\n",
       "      <td>그린</td>\n",
       "    </tr>\n",
       "    <tr>\n",
       "      <th>14</th>\n",
       "      <td>블루</td>\n",
       "      <td>골드</td>\n",
       "      <td>무료</td>\n",
       "      <td>노블</td>\n",
       "      <td>NaN</td>\n",
       "    </tr>\n",
       "    <tr>\n",
       "      <th>15</th>\n",
       "      <td>블루</td>\n",
       "      <td>골드</td>\n",
       "      <td>무료</td>\n",
       "      <td>싹틔우미</td>\n",
       "      <td>그린</td>\n",
       "    </tr>\n",
       "    <tr>\n",
       "      <th>16</th>\n",
       "      <td>블루</td>\n",
       "      <td>골드</td>\n",
       "      <td>무료</td>\n",
       "      <td>싹틔우미</td>\n",
       "      <td>NaN</td>\n",
       "    </tr>\n",
       "    <tr>\n",
       "      <th>17</th>\n",
       "      <td>블루</td>\n",
       "      <td>골드</td>\n",
       "      <td>무료</td>\n",
       "      <td>NaN</td>\n",
       "      <td>NaN</td>\n",
       "    </tr>\n",
       "    <tr>\n",
       "      <th>18</th>\n",
       "      <td>블루</td>\n",
       "      <td>무료</td>\n",
       "      <td>그린</td>\n",
       "      <td>NaN</td>\n",
       "      <td>NaN</td>\n",
       "    </tr>\n",
       "    <tr>\n",
       "      <th>19</th>\n",
       "      <td>블루</td>\n",
       "      <td>무료</td>\n",
       "      <td>노블</td>\n",
       "      <td>그린</td>\n",
       "      <td>NaN</td>\n",
       "    </tr>\n",
       "    <tr>\n",
       "      <th>20</th>\n",
       "      <td>블루</td>\n",
       "      <td>무료</td>\n",
       "      <td>노블</td>\n",
       "      <td>NaN</td>\n",
       "      <td>NaN</td>\n",
       "    </tr>\n",
       "    <tr>\n",
       "      <th>21</th>\n",
       "      <td>블루</td>\n",
       "      <td>무료</td>\n",
       "      <td>싹틔우미</td>\n",
       "      <td>그린</td>\n",
       "      <td>NaN</td>\n",
       "    </tr>\n",
       "    <tr>\n",
       "      <th>22</th>\n",
       "      <td>블루</td>\n",
       "      <td>무료</td>\n",
       "      <td>싹틔우미</td>\n",
       "      <td>NaN</td>\n",
       "      <td>NaN</td>\n",
       "    </tr>\n",
       "    <tr>\n",
       "      <th>23</th>\n",
       "      <td>블루</td>\n",
       "      <td>무료</td>\n",
       "      <td>NaN</td>\n",
       "      <td>NaN</td>\n",
       "      <td>NaN</td>\n",
       "    </tr>\n",
       "  </tbody>\n",
       "</table>\n",
       "</div>"
      ],
      "text/plain": [
       "   membership_type_1 membership_type_2 membership_type_3 membership_type_4  \\\n",
       "0                 골드                무료                그린               NaN   \n",
       "1                 골드                무료                노블                그린   \n",
       "2                 골드                무료                노블               NaN   \n",
       "3                 골드                무료              싹틔우미                그린   \n",
       "4                 골드                무료              싹틔우미               NaN   \n",
       "5                 골드                무료               NaN               NaN   \n",
       "6                 무료                그린               NaN               NaN   \n",
       "7                 무료                노블                그린               NaN   \n",
       "8                 무료                노블               NaN               NaN   \n",
       "9                 무료              싹틔우미                그린               NaN   \n",
       "10                무료              싹틔우미               NaN               NaN   \n",
       "11                무료               NaN               NaN               NaN   \n",
       "12                블루                골드                무료                그린   \n",
       "13                블루                골드                무료                노블   \n",
       "14                블루                골드                무료                노블   \n",
       "15                블루                골드                무료              싹틔우미   \n",
       "16                블루                골드                무료              싹틔우미   \n",
       "17                블루                골드                무료               NaN   \n",
       "18                블루                무료                그린               NaN   \n",
       "19                블루                무료                노블                그린   \n",
       "20                블루                무료                노블               NaN   \n",
       "21                블루                무료              싹틔우미                그린   \n",
       "22                블루                무료              싹틔우미               NaN   \n",
       "23                블루                무료               NaN               NaN   \n",
       "\n",
       "   membership_type_5  \n",
       "0                NaN  \n",
       "1                NaN  \n",
       "2                NaN  \n",
       "3                NaN  \n",
       "4                NaN  \n",
       "5                NaN  \n",
       "6                NaN  \n",
       "7                NaN  \n",
       "8                NaN  \n",
       "9                NaN  \n",
       "10               NaN  \n",
       "11               NaN  \n",
       "12               NaN  \n",
       "13                그린  \n",
       "14               NaN  \n",
       "15                그린  \n",
       "16               NaN  \n",
       "17               NaN  \n",
       "18               NaN  \n",
       "19               NaN  \n",
       "20               NaN  \n",
       "21               NaN  \n",
       "22               NaN  \n",
       "23               NaN  "
      ]
     },
     "execution_count": 10,
     "metadata": {},
     "output_type": "execute_result"
    }
   ],
   "source": [
    "# 무료회원 가입은 필수로 이루어지고 유료회원 가입은 선택사항이다.\n",
    "member = data.query('member_yn==\"Y\"').iloc[:,2:7]\n",
    "member.drop_duplicates().sort_values(by=member.columns.tolist()).reset_index(drop=True)"
   ]
  },
  {
   "cell_type": "code",
   "execution_count": 11,
   "id": "20ec6cda",
   "metadata": {},
   "outputs": [],
   "source": [
    "member['free_membership'] = member.apply(lambda x: '싹틔우미' if '싹틔우미' in x.values else '노블' if '노블' in x.values else '일반', axis=1)\n",
    "member['green'] = member.apply(lambda x: 1 if '그린' in x.values else 0, axis=1)\n",
    "member['blue'] = member.apply(lambda x: 1 if '블루' in x.values else 0, axis=1)\n",
    "member['gold'] = member.apply(lambda x: 1 if '골드' in x.values else 0, axis=1)"
   ]
  },
  {
   "cell_type": "code",
   "execution_count": 12,
   "id": "fb35c595",
   "metadata": {},
   "outputs": [],
   "source": [
    "member['corporate'] = data.query('member_yn==\"Y\"')['discount_type'].apply(lambda x: 1 if \"법인\" in x else 0)\n",
    "# member.query('corporate==1').iloc[:,:5].drop_duplicates()"
   ]
  },
  {
   "cell_type": "code",
   "execution_count": 13,
   "id": "f2e70928",
   "metadata": {
    "scrolled": false
   },
   "outputs": [
    {
     "data": {
      "text/html": [
       "<div>\n",
       "<style scoped>\n",
       "    .dataframe tbody tr th:only-of-type {\n",
       "        vertical-align: middle;\n",
       "    }\n",
       "\n",
       "    .dataframe tbody tr th {\n",
       "        vertical-align: top;\n",
       "    }\n",
       "\n",
       "    .dataframe thead th {\n",
       "        text-align: right;\n",
       "    }\n",
       "</style>\n",
       "<table border=\"1\" class=\"dataframe\">\n",
       "  <thead>\n",
       "    <tr style=\"text-align: right;\">\n",
       "      <th></th>\n",
       "      <th>age</th>\n",
       "      <th>gender</th>\n",
       "      <th>tran_date</th>\n",
       "      <th>tran_time</th>\n",
       "      <th>play_date</th>\n",
       "      <th>play_st_time</th>\n",
       "      <th>seat</th>\n",
       "      <th>price</th>\n",
       "      <th>ticket_cancel</th>\n",
       "      <th>discount_type</th>\n",
       "      <th>...</th>\n",
       "      <th>open_date</th>\n",
       "      <th>genre</th>\n",
       "      <th>running_time</th>\n",
       "      <th>intermission</th>\n",
       "      <th>member_yn</th>\n",
       "      <th>free_membership</th>\n",
       "      <th>green</th>\n",
       "      <th>blue</th>\n",
       "      <th>gold</th>\n",
       "      <th>corporate</th>\n",
       "    </tr>\n",
       "  </thead>\n",
       "  <tbody>\n",
       "    <tr>\n",
       "      <th>0</th>\n",
       "      <td>50.0</td>\n",
       "      <td>F</td>\n",
       "      <td>2022-01-14</td>\n",
       "      <td>1512</td>\n",
       "      <td>2022-02-04</td>\n",
       "      <td>2000</td>\n",
       "      <td>3층 BOX9 10</td>\n",
       "      <td>10000</td>\n",
       "      <td>2</td>\n",
       "      <td>일반</td>\n",
       "      <td>...</td>\n",
       "      <td>2022-01-15</td>\n",
       "      <td>교향곡</td>\n",
       "      <td>120</td>\n",
       "      <td>15</td>\n",
       "      <td>Y</td>\n",
       "      <td>일반</td>\n",
       "      <td>1.0</td>\n",
       "      <td>0.0</td>\n",
       "      <td>1.0</td>\n",
       "      <td>0.0</td>\n",
       "    </tr>\n",
       "    <tr>\n",
       "      <th>1</th>\n",
       "      <td>50.0</td>\n",
       "      <td>M</td>\n",
       "      <td>2022-02-06</td>\n",
       "      <td>1615</td>\n",
       "      <td>2022-03-02</td>\n",
       "      <td>1930</td>\n",
       "      <td>1층 B블록12열 7</td>\n",
       "      <td>180000</td>\n",
       "      <td>0</td>\n",
       "      <td>일반</td>\n",
       "      <td>...</td>\n",
       "      <td>2022-01-10</td>\n",
       "      <td>독주</td>\n",
       "      <td>90</td>\n",
       "      <td>0</td>\n",
       "      <td>Y</td>\n",
       "      <td>일반</td>\n",
       "      <td>0.0</td>\n",
       "      <td>0.0</td>\n",
       "      <td>0.0</td>\n",
       "      <td>0.0</td>\n",
       "    </tr>\n",
       "    <tr>\n",
       "      <th>2</th>\n",
       "      <td>30.0</td>\n",
       "      <td>F</td>\n",
       "      <td>2018-11-24</td>\n",
       "      <td>1145</td>\n",
       "      <td>2019-03-23</td>\n",
       "      <td>2000</td>\n",
       "      <td>1층 A블록2열 1</td>\n",
       "      <td>144000</td>\n",
       "      <td>2</td>\n",
       "      <td>블루회원 할인20%</td>\n",
       "      <td>...</td>\n",
       "      <td>2018-11-19</td>\n",
       "      <td>교향곡</td>\n",
       "      <td>100</td>\n",
       "      <td>15</td>\n",
       "      <td>Y</td>\n",
       "      <td>일반</td>\n",
       "      <td>0.0</td>\n",
       "      <td>1.0</td>\n",
       "      <td>0.0</td>\n",
       "      <td>0.0</td>\n",
       "    </tr>\n",
       "    <tr>\n",
       "      <th>3</th>\n",
       "      <td>NaN</td>\n",
       "      <td>NaN</td>\n",
       "      <td>2019-10-20</td>\n",
       "      <td>1459</td>\n",
       "      <td>2019-11-09</td>\n",
       "      <td>1700</td>\n",
       "      <td>3층 E블록4열 8</td>\n",
       "      <td>0</td>\n",
       "      <td>0</td>\n",
       "      <td>초대권</td>\n",
       "      <td>...</td>\n",
       "      <td>2019-10-23</td>\n",
       "      <td>교향곡</td>\n",
       "      <td>100</td>\n",
       "      <td>15</td>\n",
       "      <td>N</td>\n",
       "      <td>NaN</td>\n",
       "      <td>NaN</td>\n",
       "      <td>NaN</td>\n",
       "      <td>NaN</td>\n",
       "      <td>NaN</td>\n",
       "    </tr>\n",
       "    <tr>\n",
       "      <th>4</th>\n",
       "      <td>NaN</td>\n",
       "      <td>NaN</td>\n",
       "      <td>2019-06-13</td>\n",
       "      <td>954</td>\n",
       "      <td>2019-07-23</td>\n",
       "      <td>2000</td>\n",
       "      <td>2층 D블록8열 4</td>\n",
       "      <td>0</td>\n",
       "      <td>0</td>\n",
       "      <td>초대권</td>\n",
       "      <td>...</td>\n",
       "      <td>2019-06-02</td>\n",
       "      <td>교향곡</td>\n",
       "      <td>120</td>\n",
       "      <td>20</td>\n",
       "      <td>N</td>\n",
       "      <td>NaN</td>\n",
       "      <td>NaN</td>\n",
       "      <td>NaN</td>\n",
       "      <td>NaN</td>\n",
       "      <td>NaN</td>\n",
       "    </tr>\n",
       "  </tbody>\n",
       "</table>\n",
       "<p>5 rows × 22 columns</p>\n",
       "</div>"
      ],
      "text/plain": [
       "    age gender  tran_date  tran_time  play_date  play_st_time         seat  \\\n",
       "0  50.0      F 2022-01-14       1512 2022-02-04          2000   3층 BOX9 10   \n",
       "1  50.0      M 2022-02-06       1615 2022-03-02          1930  1층 B블록12열 7   \n",
       "2  30.0      F 2018-11-24       1145 2019-03-23          2000   1층 A블록2열 1   \n",
       "3   NaN    NaN 2019-10-20       1459 2019-11-09          1700   3층 E블록4열 8   \n",
       "4   NaN    NaN 2019-06-13        954 2019-07-23          2000   2층 D블록8열 4   \n",
       "\n",
       "    price  ticket_cancel discount_type  ...  open_date genre running_time  \\\n",
       "0   10000              2            일반  ... 2022-01-15   교향곡          120   \n",
       "1  180000              0            일반  ... 2022-01-10    독주           90   \n",
       "2  144000              2    블루회원 할인20%  ... 2018-11-19   교향곡          100   \n",
       "3       0              0           초대권  ... 2019-10-23   교향곡          100   \n",
       "4       0              0           초대권  ... 2019-06-02   교향곡          120   \n",
       "\n",
       "  intermission  member_yn  free_membership green blue  gold  corporate  \n",
       "0           15          Y               일반   1.0  0.0   1.0        0.0  \n",
       "1            0          Y               일반   0.0  0.0   0.0        0.0  \n",
       "2           15          Y               일반   0.0  1.0   0.0        0.0  \n",
       "3           15          N              NaN   NaN  NaN   NaN        NaN  \n",
       "4           20          N              NaN   NaN  NaN   NaN        NaN  \n",
       "\n",
       "[5 rows x 22 columns]"
      ]
     },
     "execution_count": 13,
     "metadata": {},
     "output_type": "execute_result"
    }
   ],
   "source": [
    "# 전체 데이터를 병합한다.\n",
    "data.drop(['membership_type_1', 'membership_type_2','membership_type_3', 'membership_type_4', 'membership_type_5'], \n",
    "          axis=1, inplace=True)\n",
    "data = pd.concat([data, member.iloc[:,-5:]], axis=1)\n",
    "data.head()"
   ]
  },
  {
   "cell_type": "code",
   "execution_count": 14,
   "id": "8398084f",
   "metadata": {},
   "outputs": [
    {
     "data": {
      "text/plain": [
       "age                 551469\n",
       "gender              551469\n",
       "tran_date                0\n",
       "tran_time                0\n",
       "play_date                0\n",
       "play_st_time             0\n",
       "seat                     0\n",
       "price                    0\n",
       "ticket_cancel            0\n",
       "discount_type            0\n",
       "performance_code         0\n",
       "pre_open_date       366172\n",
       "open_date                0\n",
       "genre                    0\n",
       "running_time             0\n",
       "intermission             0\n",
       "member_yn                0\n",
       "free_membership     551469\n",
       "green               551469\n",
       "blue                551469\n",
       "gold                551469\n",
       "corporate           551469\n",
       "dtype: int64"
      ]
     },
     "execution_count": 14,
     "metadata": {},
     "output_type": "execute_result"
    }
   ],
   "source": [
    "# 선예매를 하지 않은 데이터, 비회원 데이터를 의미하게 결측치를 남겼다.\n",
    "data.isna().sum()"
   ]
  },
  {
   "cell_type": "markdown",
   "id": "37de5c0d",
   "metadata": {},
   "source": [
    "- performance_code, play_date, play_st_time이 동일해야 같은 공연을 의미한다. 쉽게 알아볼 수 있게 performance_label을 생성한다."
   ]
  },
  {
   "cell_type": "code",
   "execution_count": 15,
   "id": "9e5ec99f",
   "metadata": {},
   "outputs": [],
   "source": [
    "data = data.merge(data[['performance_code', 'play_date', 'play_st_time']]\\\n",
    "                  .drop_duplicates().reset_index(drop=True).reset_index().rename(columns={'index':'performance_label'}),\n",
    "                  on=['performance_code', 'play_date', 'play_st_time'])\n",
    "data.drop('performance_code', axis=1, inplace=True)"
   ]
  },
  {
   "cell_type": "markdown",
   "id": "68f4da1d",
   "metadata": {},
   "source": [
    "- ticket_cancel은 예매율/취소율을 구하기 위해 label을 0과 1로 변경한다."
   ]
  },
  {
   "cell_type": "code",
   "execution_count": 16,
   "id": "d85c1e1e",
   "metadata": {},
   "outputs": [],
   "source": [
    "data['ticket_cancel'] = data['ticket_cancel'].map({0:0,2:1})"
   ]
  },
  {
   "cell_type": "markdown",
   "id": "c9a3c52e",
   "metadata": {},
   "source": [
    "- discount_type은 결측치가 없다.\n",
    "  - 할인을 받지 않고 정가에 구매한 데이터는 '일반'으로 표기되어 있다.\n",
    "  - label에 나와있는 할인율은 별도로 저장해두었다가 원가 계산, 공연 등급제 등을 유추하도록 한다."
   ]
  },
  {
   "cell_type": "code",
   "execution_count": 17,
   "id": "af83d59f",
   "metadata": {
    "scrolled": true
   },
   "outputs": [
    {
     "data": {
      "text/plain": [
       "초대권                   347637\n",
       "일반                    160309\n",
       "기획사판매                 126387\n",
       "골드회원 할인10%             51844\n",
       "그린회원 할인5%              27008\n",
       "                       ...  \n",
       "싹틔우미 할인                    3\n",
       "대학생 할인(본인만)30%             2\n",
       "예술인패스카드 소지자(본인)20%         2\n",
       "골드회원 할인30%_                2\n",
       "블루회원 할인20%_                2\n",
       "Name: discount_type, Length: 673, dtype: int64"
      ]
     },
     "execution_count": 17,
     "metadata": {},
     "output_type": "execute_result"
    }
   ],
   "source": [
    "data.discount_type.value_counts()"
   ]
  },
  {
   "cell_type": "code",
   "execution_count": 18,
   "id": "9af0996b",
   "metadata": {},
   "outputs": [
    {
     "name": "stdout",
     "output_type": "stream",
     "text": [
      "discount_type이 \"일반\"이나 천원 단위가 아닌 데이터수: 0\n"
     ]
    }
   ],
   "source": [
    "# discount_type이 \"일반\"인 데이터를 살펴보면 천원 단위가 맞춰져 있으며 정가 구매로 보여진다.\n",
    "# data.query('discount_type == \"일반\"').groupby(['performance_code','seat'])['price'].unique()\n",
    "print('discount_type이 \"일반\"이나 천원 단위가 아닌 데이터수:', \\\n",
    "      data.query('discount_type==\"일반\"')['price'].astype(str).apply(lambda x: 1 if '000' not in x else 0).sum())"
   ]
  },
  {
   "cell_type": "code",
   "execution_count": 19,
   "id": "7399c271",
   "metadata": {},
   "outputs": [],
   "source": [
    "# 할인율과 정가구매, 초대권 사용 정보를 추출한다.\n",
    "data['discount_rate'] = data[['price','discount_type']].apply(lambda x: 1 if x[0] == 0 and x[1] == \"초대권\" else\n",
    "                                                                         0 if x[0] != 0  and x[1] == \"일반\" else\n",
    "                                                                         x[1][x[1].index('%')-2:x[1].index('%')] if x[0] != 0 and '%' in x[1] else np.nan, axis=1)\n",
    "data['discount_rate'] = data['discount_rate'].apply(lambda x: {')5':'5','인5':'5'}.get(x, x)).astype(float)"
   ]
  },
  {
   "cell_type": "code",
   "execution_count": 20,
   "id": "f6cb1afd",
   "metadata": {},
   "outputs": [
    {
     "data": {
      "text/plain": [
       "1.0     347636\n",
       "NaN     186968\n",
       "0.0     160309\n",
       "10.0     81845\n",
       "5.0      49632\n",
       "30.0     45977\n",
       "20.0     45913\n",
       "50.0     45355\n",
       "40.0     28163\n",
       "15.0     13734\n",
       "25.0      2279\n",
       "12.0      1104\n",
       "60.0       234\n",
       "75.0        39\n",
       "35.0        28\n",
       "80.0        27\n",
       "Name: discount_rate, dtype: int64"
      ]
     },
     "execution_count": 20,
     "metadata": {},
     "output_type": "execute_result"
    }
   ],
   "source": [
    "# 초대권 : 347636개\n",
    "# 정가구매(일반) : 160309개\n",
    "# 할인적용 : 314330개\n",
    "# 초대권 외의 구매가격이 0인 데이터: 174020개\n",
    "# 할인율을 알 수 없는 데이터: 12948개\n",
    "\n",
    "data.discount_rate.value_counts(dropna=False)"
   ]
  },
  {
   "cell_type": "markdown",
   "id": "af6bf4fb",
   "metadata": {},
   "source": [
    "- 위에서 구한 할인율을 바탕으로 원가를 복원할 수 있는 데이터는 복원한다."
   ]
  },
  {
   "cell_type": "code",
   "execution_count": 21,
   "id": "9664913c",
   "metadata": {},
   "outputs": [],
   "source": [
    "data['origin_price'] = (data['price'] / (1 - data.discount_rate.apply(lambda x: x/100))).apply(lambda x: round(x, 2))"
   ]
  },
  {
   "cell_type": "markdown",
   "id": "a71d5589",
   "metadata": {},
   "source": [
    "- seat을 그룹핑하는 것이 분석과제 중 하나로 column을 상세히 쪼갠다.\n",
    "  - 이후 동일 좌석임을 알아보기 위해 seat_label을 생성한다."
   ]
  },
  {
   "cell_type": "code",
   "execution_count": 22,
   "id": "468d5827",
   "metadata": {},
   "outputs": [],
   "source": [
    "# 블록이 BOX라 열이 없는 데이터는 열은 nan 처리해둔다.\n",
    "data['층'] = data['seat'].apply(lambda x: x[:x.index('층')] if '층' in x else '합창석')\n",
    "data['블록'] = data['seat'].str.split(expand=True)[1].apply(lambda x: x[:x.index('블록')] if '블록' in x else \n",
    "                                                                       x if 'BOX' in x else np.nan).str.strip()\n",
    "data['열'] = data['seat'].apply(lambda x: x[x.index('블록')+2:x.index('열')] if '블록' in x else \n",
    "                                           np.nan if 'BOX' in x else x.rsplit()[-2][:-1]).str.strip()\n",
    "data['좌석번호'] = data['seat'].apply(lambda x: x.rsplit()[-1]).str.strip()\n",
    "# data[['seat','층','블록','열','좌석번호']]"
   ]
  },
  {
   "cell_type": "code",
   "execution_count": 23,
   "id": "9654b7ee",
   "metadata": {},
   "outputs": [],
   "source": [
    "# 동일 좌석임을 빠르게 확인하기 위해 seat_label을 만든다.\n",
    "data = data.merge(data[['층','블록','열','좌석번호']].sort_values(by=['층','블록','열','좌석번호'])\\\n",
    "                  .drop_duplicates().reset_index(drop=True).reset_index().rename(columns={'index':'seat_label'}),\n",
    "                  on=['층','블록','열','좌석번호'])\n",
    "data.drop('seat', axis=1, inplace=True)"
   ]
  },
  {
   "cell_type": "markdown",
   "id": "a651a70e",
   "metadata": {},
   "source": [
    "### <font color=\"firebrick\">데이터 정제\n",
    "정의와 맞지 않는 데이터를 제거하는 작업이다.\n",
    "- age는 각 무료회원제 대상 연령과 부합해야 한다.\n",
    "  - 싹틔우미는 7 ~ 24세, 일반은 25 ~ 68세, 노블은 69세이상으로 멤버십에 맞는 연령대를 갖지 않은 데이터는 오류이다.\n",
    "  - 비회원이 무료회원의 할인을 받았거나 적합하지 않은 무료회원의 할인을 받은 데이터는 오류로 제거한다. "
   ]
  },
  {
   "cell_type": "code",
   "execution_count": 24,
   "id": "918df927",
   "metadata": {},
   "outputs": [
    {
     "name": "stdout",
     "output_type": "stream",
     "text": [
      "데이터 수: 991112\n",
      "데이터 수: 980690\n",
      "데이터 수: 980427\n"
     ]
    }
   ],
   "source": [
    "data.drop(data.query('free_membership==\"싹틔우미\" and age >= 30').index, inplace=True)\n",
    "print('데이터 수:', data.shape[0])\n",
    "data.drop(data.query('free_membership==\"일반\" and (age == 10 or age > 60)').index, inplace=True)\n",
    "print('데이터 수:', data.shape[0])\n",
    "data.drop(data.query('free_membership==\"노블\" and age < 60').index, inplace=True)\n",
    "print('데이터 수:', data.shape[0])"
   ]
  },
  {
   "cell_type": "code",
   "execution_count": 25,
   "id": "d38d6724",
   "metadata": {},
   "outputs": [
    {
     "name": "stdout",
     "output_type": "stream",
     "text": [
      "데이터수: 980384\n",
      "데이터수: 980366\n"
     ]
    }
   ],
   "source": [
    "data.drop(data.loc[data.discount_type.apply(lambda x: '싹틔우미' in x)].query('free_membership != \"싹틔우미\"').index, inplace=True)\n",
    "print('데이터수:', data.shape[0])\n",
    "data.drop(data.loc[data.discount_type.apply(lambda x: '노블' in x)].query('free_membership != \"노블\"').index, inplace=True)\n",
    "print('데이터수:', data.shape[0])"
   ]
  },
  {
   "cell_type": "markdown",
   "id": "fc2c6ba0",
   "metadata": {},
   "source": [
    "- discount_type에서 유료회원 혜택은 중복적용될 수 있되 다른 유료회원 혜택이 적용될 수 없음을 고려해 적합한 혜택이 적용된 데이터만을 남긴다."
   ]
  },
  {
   "cell_type": "code",
   "execution_count": 26,
   "id": "245c032c",
   "metadata": {
    "scrolled": true
   },
   "outputs": [
    {
     "name": "stdout",
     "output_type": "stream",
     "text": [
      "데이터수: 980308\n",
      "데이터수: 980235\n",
      "데이터수: 980126\n"
     ]
    }
   ],
   "source": [
    "# 유료회원별 적합한 혜택이 적용된 데이터만을 남긴다.\n",
    "data.drop(data.loc[data.discount_type.apply(lambda x: '그린' in x)].query('green != 1').index, inplace=True)\n",
    "print('데이터수:', data.shape[0])\n",
    "data.drop(data.loc[data.discount_type.apply(lambda x: '블루' in x)].query('blue != 1').index, inplace=True)\n",
    "print('데이터수:', data.shape[0])\n",
    "data.drop(data.loc[data.discount_type.apply(lambda x: '골드' in x)].query('gold != 1 and corporate != 1').index, inplace=True)\n",
    "print('데이터수:', data.shape[0])"
   ]
  },
  {
   "cell_type": "markdown",
   "id": "3bf471a6",
   "metadata": {},
   "source": [
    "- pre_open_date이 예매시작일보다 빠른 데이터는 오류로 제거한다."
   ]
  },
  {
   "cell_type": "code",
   "execution_count": 27,
   "id": "1d156d5c",
   "metadata": {},
   "outputs": [
    {
     "name": "stdout",
     "output_type": "stream",
     "text": [
      "데이터수: 977242\n"
     ]
    }
   ],
   "source": [
    "# 선예매일이 예매시작일보다 빠른 데이터를 제거한다. \n",
    "data.drop(data.query('pre_open_date > open_date').index, inplace=True)\n",
    "print('데이터수:', data.shape[0])"
   ]
  },
  {
   "cell_type": "markdown",
   "id": "647de2c1",
   "metadata": {},
   "source": [
    "- trun_date가 선예매일이나 예매일보다 빠른 데이터는 오류이다."
   ]
  },
  {
   "cell_type": "code",
   "execution_count": 28,
   "id": "39510ac4",
   "metadata": {},
   "outputs": [
    {
     "name": "stdout",
     "output_type": "stream",
     "text": [
      "데이터수: 959068\n"
     ]
    }
   ],
   "source": [
    "data.drop(data.loc[data['pre_open_date'].notna()].query('pre_open_date > tran_date').index, inplace=True)\n",
    "print('데이터수:', data.shape[0])"
   ]
  },
  {
   "cell_type": "code",
   "execution_count": 29,
   "id": "bb5253d8",
   "metadata": {},
   "outputs": [
    {
     "name": "stdout",
     "output_type": "stream",
     "text": [
      "데이터수: 929040\n"
     ]
    }
   ],
   "source": [
    "data.drop(data.loc[data['pre_open_date'].isna()].query('open_date > tran_date').index, inplace=True)\n",
    "print('데이터수:', data.shape[0])"
   ]
  },
  {
   "cell_type": "markdown",
   "id": "92918680",
   "metadata": {},
   "source": [
    "### <font color=\"firebrick\">변수 생성\n",
    "분석에 사용할 추가적인 변수를 생성한다."
   ]
  },
  {
   "cell_type": "markdown",
   "id": "dd5ab8e9",
   "metadata": {},
   "source": [
    "- play_date, play_st_time으로부터 일자 정보를 생성한다."
   ]
  },
  {
   "cell_type": "code",
   "execution_count": 30,
   "id": "3cda2c6d",
   "metadata": {},
   "outputs": [],
   "source": [
    "data['play_year'] = data['play_date'].dt.year\n",
    "data['play_month'] = data['play_date'].dt.month\n",
    "data['play_weekday'] = data['play_date'].dt.weekday\n",
    "data['play_time'] = data['play_st_time']//100 + data['play_st_time']%100/60"
   ]
  },
  {
   "cell_type": "markdown",
   "id": "0447fe3e",
   "metadata": {},
   "source": [
    "- open_date로부터 일자 정보를 생성한다."
   ]
  },
  {
   "cell_type": "code",
   "execution_count": 31,
   "id": "79f82deb",
   "metadata": {},
   "outputs": [],
   "source": [
    "data['open_year'] = data['open_date'].dt.year\n",
    "data['open_month'] = data['open_date'].dt.month"
   ]
  },
  {
   "cell_type": "markdown",
   "id": "718af3ea",
   "metadata": {},
   "source": [
    "- pre_open_date와 open_date 차이를 구해 선예매여부 및 선예매기간을 구한다."
   ]
  },
  {
   "cell_type": "code",
   "execution_count": 32,
   "id": "c21a3038",
   "metadata": {},
   "outputs": [],
   "source": [
    "data['pre_open_gap'] = (data['open_date'] - data['pre_open_date']).dt.days.fillna(-1)"
   ]
  },
  {
   "cell_type": "markdown",
   "id": "b88d5427",
   "metadata": {},
   "source": [
    "- tran_date와 open_date 차이를 구해 얼마나 빨리 구매했는지 확인한다."
   ]
  },
  {
   "cell_type": "code",
   "execution_count": 33,
   "id": "0c9482d4",
   "metadata": {},
   "outputs": [],
   "source": [
    "data['tran_gap'] = (data['tran_date'] - data['open_date']).dt.days.fillna(-1)"
   ]
  },
  {
   "cell_type": "markdown",
   "id": "09bc35eb",
   "metadata": {},
   "source": [
    "- play_date와 open_date 차이를 구한다."
   ]
  },
  {
   "cell_type": "code",
   "execution_count": 34,
   "id": "112ca84a",
   "metadata": {},
   "outputs": [],
   "source": [
    "data['open_gap'] = (data['play_date'] - data['open_date']).dt.days.fillna(-1)"
   ]
  },
  {
   "cell_type": "markdown",
   "id": "5ec2d71e",
   "metadata": {},
   "source": [
    "- play_date와 tran_date 차이를 구해 취소가능성이 높은지 확인한다."
   ]
  },
  {
   "cell_type": "code",
   "execution_count": 35,
   "id": "7c2f3b12",
   "metadata": {},
   "outputs": [],
   "source": [
    "data['play_gap'] = (data['play_date'] - data['tran_date']).dt.days.fillna(-1)"
   ]
  },
  {
   "cell_type": "markdown",
   "id": "f9c79996",
   "metadata": {},
   "source": [
    "- 해당 공연에서 몇 번째로 구매된 좌석인지 구한다."
   ]
  },
  {
   "cell_type": "code",
   "execution_count": 36,
   "id": "4593a6af",
   "metadata": {},
   "outputs": [],
   "source": [
    "data['tran'] = pd.to_datetime(data['tran_date'].astype(str)+data['tran_time'].astype(str).str.zfill(4), format='%Y-%m-%d%H%M')"
   ]
  },
  {
   "cell_type": "code",
   "execution_count": 37,
   "id": "e9078453",
   "metadata": {},
   "outputs": [],
   "source": [
    "min_times = data.groupby(['performance_label'])['tran'].min().rename('min').reset_index()\n",
    "min_times = data[['performance_label','tran']].reset_index().merge(min_times, on='performance_label').set_index('index')\n",
    "data['res_time'] = (min_times['tran'] - min_times['min']).dt.total_seconds()\n",
    "data.drop('tran', axis=1, inplace=True)"
   ]
  },
  {
   "cell_type": "code",
   "execution_count": 38,
   "id": "b703464a",
   "metadata": {},
   "outputs": [],
   "source": [
    "data['res_time_rank'] = data.groupby('performance_label')['res_time'].rank(method='min')"
   ]
  },
  {
   "cell_type": "code",
   "execution_count": 39,
   "id": "64de68a6",
   "metadata": {},
   "outputs": [],
   "source": [
    "data['res_time_rank_scaled'] = data.groupby('performance_label')['res_time_rank']\\\n",
    "                               .transform(lambda x: MinMaxScaler().fit_transform(x.values.reshape(-1, 1)).ravel())"
   ]
  },
  {
   "cell_type": "markdown",
   "id": "225c67ad",
   "metadata": {},
   "source": [
    "### Save data"
   ]
  },
  {
   "cell_type": "code",
   "execution_count": 40,
   "id": "4144d257",
   "metadata": {},
   "outputs": [],
   "source": [
    "data.to_parquet('../data/DataCleansing.pqt', index=False)"
   ]
  },
  {
   "cell_type": "code",
   "execution_count": null,
   "id": "c0d83881",
   "metadata": {},
   "outputs": [],
   "source": []
  }
 ],
 "metadata": {
  "kernelspec": {
   "display_name": "Python 3 (ipykernel)",
   "language": "python",
   "name": "python3"
  },
  "language_info": {
   "codemirror_mode": {
    "name": "ipython",
    "version": 3
   },
   "file_extension": ".py",
   "mimetype": "text/x-python",
   "name": "python",
   "nbconvert_exporter": "python",
   "pygments_lexer": "ipython3",
   "version": "3.9.12"
  }
 },
 "nbformat": 4,
 "nbformat_minor": 5
}
