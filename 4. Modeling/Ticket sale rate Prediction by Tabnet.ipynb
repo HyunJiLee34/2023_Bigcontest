{
 "cells": [
  {
   "cell_type": "markdown",
   "id": "7c251968",
   "metadata": {},
   "source": [
    "## Import"
   ]
  },
  {
   "cell_type": "code",
   "execution_count": 1,
   "id": "1e084649",
   "metadata": {},
   "outputs": [],
   "source": [
    "import pandas as pd\n",
    "import numpy as np\n",
    "np.random.seed(2023)\n",
    "import pickle\n",
    "from sklearn.metrics import mean_squared_error\n",
    "import os\n",
    "from sklearn.metrics import roc_auc_score\n",
    "from matplotlib import pyplot as plt\n",
    "\n",
    "import torch\n",
    "import torch.nn as nn\n",
    "# pip install pytorch-tabnet\n",
    "from pytorch_tabnet.tab_model import TabNetClassifier, TabNetRegressor\n",
    "# ignore warnings\n",
    "import warnings ; warnings.filterwarnings('ignore')"
   ]
  },
  {
   "cell_type": "markdown",
   "id": "03077682",
   "metadata": {},
   "source": [
    "## Read data"
   ]
  },
  {
   "cell_type": "code",
   "execution_count": 2,
   "id": "820559ee",
   "metadata": {},
   "outputs": [],
   "source": [
    "symphony_feature, chorus_feature, voice_feature, solo_feature, chamber_feature = pickle.load(open(f'../data/SaleRatePredictionFeatures.pkl','rb'))"
   ]
  },
  {
   "cell_type": "markdown",
   "id": "3a8b8f9d",
   "metadata": {},
   "source": [
    "## TABNET"
   ]
  },
  {
   "cell_type": "code",
   "execution_count": 3,
   "id": "32d2ced8",
   "metadata": {},
   "outputs": [],
   "source": [
    "def TabNet_modeling(X, y):\n",
    "    # Road model\n",
    "    reg = TabNetRegressor(optimizer_fn=torch.optim.Adam,\n",
    "                          optimizer_params=dict(lr=1e-2),\n",
    "                          scheduler_params={\"step_size\":50,\"gamma\":0.9},\n",
    "                          scheduler_fn=torch.optim.lr_scheduler.StepLR,\n",
    "                          mask_type='sparsemax', verbose=0, seed=2023)  # \"sparsemax\", entmax\n",
    "    \n",
    "    # Split data \n",
    "    X['SET'] = np.random.choice([\"train\", \"val\", \"test\"], p =[.8, .1, .1], size=(X.shape[0],))\n",
    "    X_train, X_val, X_test = X.query('SET==\"train\"').drop('SET', axis=1), X.query('SET==\"val\"').drop('SET', axis=1), X.query('SET==\"test\"').drop('SET', axis=1)\n",
    "    y_train, y_val, y_test = y.loc[X_train.index], y.loc[X_val.index], y.loc[X_test.index]\n",
    "    \n",
    "    # Tunning\n",
    "    reg.fit(X_train=X_train.values, y_train=y_train.values,\n",
    "            eval_set=[(X_train.values, y_train.values), (X_val.values, y_val.values)],\n",
    "            eval_name=['train', 'valid'],\n",
    "            eval_metric=['rmse'],\n",
    "            max_epochs=1000 , patience=300,\n",
    "            batch_size=1024, virtual_batch_size=128,\n",
    "            num_workers=0,\n",
    "            drop_last=False)\n",
    "    \n",
    "    # Predict\n",
    "    preds = reg.predict(X_test.values)\n",
    "    test_mse = mean_squared_error(y_pred=preds, y_true=y_test)   \n",
    "    \n",
    "    # Selection\n",
    "    fimportance = pd.DataFrame({'feature': X_train.columns, 'importance':reg.feature_importances_})\n",
    "    unuse = fimportance.query('importance==0').feature.values.tolist()\n",
    "    if len(unuse) != 0:\n",
    "        X = X.drop(unuse, axis=1)\n",
    "        return X, reg.best_cost, test_mse, reg\n",
    "    else:\n",
    "        return None, 'Done!', 'Done!', None"
   ]
  },
  {
   "cell_type": "markdown",
   "id": "1f738c59",
   "metadata": {},
   "source": [
    "- 교향곡"
   ]
  },
  {
   "cell_type": "code",
   "execution_count": 4,
   "id": "3e0b7ece",
   "metadata": {},
   "outputs": [],
   "source": [
    "X = symphony_feature.drop([i for i in symphony_feature.columns if 'TARGET' in i], axis=1)\n",
    "y = symphony_feature[[i for i in symphony_feature.columns if 'TARGET' in i]]"
   ]
  },
  {
   "cell_type": "code",
   "execution_count": 5,
   "id": "fee91908",
   "metadata": {},
   "outputs": [
    {
     "name": "stdout",
     "output_type": "stream",
     "text": [
      "\n",
      "Early stopping occurred at epoch 377 with best_epoch = 77 and best_valid_rmse = 0.44282\n",
      "BEST VALID SCORE FOR DATA : 0.44282195050959755\n",
      "FINAL TEST SCORE FOR DATA : 0.23989544964675905\n"
     ]
    }
   ],
   "source": [
    "first_selected_symphony_feature, val_rmse, test_rmse, first_model_symphony = TabNet_modeling(X, y)\n",
    "print(f\"BEST VALID SCORE FOR DATA : {val_rmse}\")\n",
    "print(f\"FINAL TEST SCORE FOR DATA : {test_rmse}\")"
   ]
  },
  {
   "cell_type": "code",
   "execution_count": 6,
   "id": "dd4030a1",
   "metadata": {},
   "outputs": [
    {
     "name": "stdout",
     "output_type": "stream",
     "text": [
      "\n",
      "Early stopping occurred at epoch 303 with best_epoch = 3 and best_valid_rmse = 2.4785\n",
      "BEST VALID SCORE FOR DATA : 2.4784997098488972\n",
      "FINAL TEST SCORE FOR DATA : 50.07231011456347\n"
     ]
    }
   ],
   "source": [
    "second_selected_symphony_feature, val_rmse, test_rmse, second_model_symphony = TabNet_modeling(first_selected_symphony_feature, y)\n",
    "print(f\"BEST VALID SCORE FOR DATA : {val_rmse}\")\n",
    "print(f\"FINAL TEST SCORE FOR DATA : {test_rmse}\")"
   ]
  },
  {
   "cell_type": "code",
   "execution_count": 7,
   "id": "abf533cc",
   "metadata": {},
   "outputs": [
    {
     "name": "stdout",
     "output_type": "stream",
     "text": [
      "\n",
      "Early stopping occurred at epoch 787 with best_epoch = 487 and best_valid_rmse = 0.37664\n",
      "BEST VALID SCORE FOR DATA : 0.3766399252879392\n",
      "FINAL TEST SCORE FOR DATA : 0.18350811273240622\n"
     ]
    }
   ],
   "source": [
    "third_selected_symphony_feature, val_rmse, test_rmse, third_model_symphony = TabNet_modeling(second_selected_symphony_feature, y)\n",
    "print(f\"BEST VALID SCORE FOR DATA : {val_rmse}\")\n",
    "print(f\"FINAL TEST SCORE FOR DATA : {test_rmse}\")"
   ]
  },
  {
   "cell_type": "code",
   "execution_count": 8,
   "id": "66b5d697",
   "metadata": {
    "scrolled": true
   },
   "outputs": [
    {
     "name": "stdout",
     "output_type": "stream",
     "text": [
      "\n",
      "Early stopping occurred at epoch 334 with best_epoch = 34 and best_valid_rmse = 0.61289\n",
      "BEST VALID SCORE FOR DATA : 0.6128896186300978\n",
      "FINAL TEST SCORE FOR DATA : 710.3275096968365\n"
     ]
    }
   ],
   "source": [
    "# 최종 모델\n",
    "fourth_selected_symphony_feature, val_rmse, test_rmse, fourth_model_symphony = TabNet_modeling(third_selected_symphony_feature, y)\n",
    "print(f\"BEST VALID SCORE FOR DATA : {val_rmse}\")\n",
    "print(f\"FINAL TEST SCORE FOR DATA : {test_rmse}\")"
   ]
  },
  {
   "cell_type": "code",
   "execution_count": 9,
   "id": "80fa6095",
   "metadata": {},
   "outputs": [
    {
     "name": "stdout",
     "output_type": "stream",
     "text": [
      "\n",
      "Early stopping occurred at epoch 552 with best_epoch = 252 and best_valid_rmse = 0.34518\n",
      "BEST VALID SCORE FOR DATA : 0.34518276186660823\n",
      "FINAL TEST SCORE FOR DATA : 0.1259805243662003\n"
     ]
    }
   ],
   "source": [
    "fifth_selected_symphony_feature, val_rmse, test_rmse, fifth_model_symphony = TabNet_modeling(fourth_selected_symphony_feature, y)\n",
    "print(f\"BEST VALID SCORE FOR DATA : {val_rmse}\")\n",
    "print(f\"FINAL TEST SCORE FOR DATA : {test_rmse}\")"
   ]
  },
  {
   "cell_type": "code",
   "execution_count": 10,
   "id": "1f99ee69",
   "metadata": {},
   "outputs": [
    {
     "name": "stdout",
     "output_type": "stream",
     "text": [
      "\n",
      "Early stopping occurred at epoch 562 with best_epoch = 262 and best_valid_rmse = 0.34538\n",
      "BEST VALID SCORE FOR DATA : Done!\n",
      "FINAL TEST SCORE FOR DATA : Done!\n"
     ]
    }
   ],
   "source": [
    "sixth_selected_symphony_feature, val_rmse, test_rmse, sixth_model_symphony = TabNet_modeling(fifth_selected_symphony_feature, y)\n",
    "print(f\"BEST VALID SCORE FOR DATA : {val_rmse}\")\n",
    "print(f\"FINAL TEST SCORE FOR DATA : {test_rmse}\")"
   ]
  },
  {
   "cell_type": "markdown",
   "id": "13cc99ec",
   "metadata": {},
   "source": [
    "- 합창"
   ]
  },
  {
   "cell_type": "code",
   "execution_count": 11,
   "id": "e390c5c4",
   "metadata": {},
   "outputs": [],
   "source": [
    "# 최종 모델\n",
    "X = chorus_feature.drop([i for i in chorus_feature.columns if 'TARGET' in i], axis=1)\n",
    "y = chorus_feature[[i for i in chorus_feature.columns if 'TARGET' in i]]"
   ]
  },
  {
   "cell_type": "code",
   "execution_count": 12,
   "id": "1946d82a",
   "metadata": {},
   "outputs": [
    {
     "name": "stdout",
     "output_type": "stream",
     "text": [
      "\n",
      "Early stopping occurred at epoch 778 with best_epoch = 478 and best_valid_rmse = 0.46555\n",
      "BEST VALID SCORE FOR DATA : 0.4655470148539781\n",
      "FINAL TEST SCORE FOR DATA : 0.20799941084478113\n"
     ]
    }
   ],
   "source": [
    "first_selected_chorus_feature, val_rmse, test_rmse, first_model_chorus = TabNet_modeling(X, y)\n",
    "print(f\"BEST VALID SCORE FOR DATA : {val_rmse}\")\n",
    "print(f\"FINAL TEST SCORE FOR DATA : {test_rmse}\")"
   ]
  },
  {
   "cell_type": "code",
   "execution_count": 13,
   "id": "dfb3ff78",
   "metadata": {},
   "outputs": [
    {
     "name": "stdout",
     "output_type": "stream",
     "text": [
      "\n",
      "Early stopping occurred at epoch 413 with best_epoch = 113 and best_valid_rmse = 0.53243\n",
      "BEST VALID SCORE FOR DATA : 0.5324326927044309\n",
      "FINAL TEST SCORE FOR DATA : 0.12856383586447911\n"
     ]
    }
   ],
   "source": [
    "second_selected_chorus_feature, val_rmse, test_rmse, second_model_chorus = TabNet_modeling(first_selected_chorus_feature, y)\n",
    "print(f\"BEST VALID SCORE FOR DATA : {val_rmse}\")\n",
    "print(f\"FINAL TEST SCORE FOR DATA : {test_rmse}\")"
   ]
  },
  {
   "cell_type": "markdown",
   "id": "31cce911",
   "metadata": {},
   "source": [
    "- 성악"
   ]
  },
  {
   "cell_type": "code",
   "execution_count": 15,
   "id": "0c12c9a3",
   "metadata": {},
   "outputs": [],
   "source": [
    "X = voice_feature.drop([i for i in voice_feature.columns if 'TARGET' in i], axis=1)\n",
    "y = voice_feature[[i for i in voice_feature.columns if 'TARGET' in i]]"
   ]
  },
  {
   "cell_type": "code",
   "execution_count": 16,
   "id": "4c8b5e30",
   "metadata": {},
   "outputs": [
    {
     "name": "stdout",
     "output_type": "stream",
     "text": [
      "\n",
      "Early stopping occurred at epoch 504 with best_epoch = 204 and best_valid_rmse = 0.32671\n",
      "BEST VALID SCORE FOR DATA : 0.32671330440768853\n",
      "FINAL TEST SCORE FOR DATA : 22.099918787583867\n"
     ]
    }
   ],
   "source": [
    "# 최종 모델\n",
    "first_selected_voice_feature, val_rmse, test_rmse, first_model_voice = TabNet_modeling(X, y)\n",
    "print(f\"BEST VALID SCORE FOR DATA : {val_rmse}\")\n",
    "print(f\"FINAL TEST SCORE FOR DATA : {test_rmse}\")"
   ]
  },
  {
   "cell_type": "code",
   "execution_count": 17,
   "id": "df2bc74a",
   "metadata": {
    "scrolled": true
   },
   "outputs": [
    {
     "name": "stdout",
     "output_type": "stream",
     "text": [
      "\n",
      "Early stopping occurred at epoch 886 with best_epoch = 586 and best_valid_rmse = 0.12837\n",
      "BEST VALID SCORE FOR DATA : 0.1283736560575514\n",
      "FINAL TEST SCORE FOR DATA : 0.09643088376399896\n"
     ]
    }
   ],
   "source": [
    "second_selected_voice_feature, val_rmse, test_rmse, second_model_voice = TabNet_modeling(first_selected_voice_feature, y)\n",
    "print(f\"BEST VALID SCORE FOR DATA : {val_rmse}\")\n",
    "print(f\"FINAL TEST SCORE FOR DATA : {test_rmse}\")"
   ]
  },
  {
   "cell_type": "code",
   "execution_count": 19,
   "id": "f94e6c5c",
   "metadata": {},
   "outputs": [
    {
     "name": "stdout",
     "output_type": "stream",
     "text": [
      "\n",
      "Early stopping occurred at epoch 403 with best_epoch = 103 and best_valid_rmse = 0.1881\n",
      "BEST VALID SCORE FOR DATA : 0.18810108340403497\n",
      "FINAL TEST SCORE FOR DATA : 0.17642773066072176\n"
     ]
    }
   ],
   "source": [
    "third_selected_voice_feature, val_rmse, test_rmse, third_model_voice = TabNet_modeling(second_selected_voice_feature, y)\n",
    "print(f\"BEST VALID SCORE FOR DATA : {val_rmse}\")\n",
    "print(f\"FINAL TEST SCORE FOR DATA : {test_rmse}\")"
   ]
  },
  {
   "cell_type": "code",
   "execution_count": 20,
   "id": "cad2d462",
   "metadata": {},
   "outputs": [
    {
     "name": "stdout",
     "output_type": "stream",
     "text": [
      "\n",
      "Early stopping occurred at epoch 623 with best_epoch = 323 and best_valid_rmse = 0.41191\n",
      "BEST VALID SCORE FOR DATA : Done!\n",
      "FINAL TEST SCORE FOR DATA : Done!\n"
     ]
    }
   ],
   "source": [
    "fourth_selected_voice_feature, val_rmse, test_rmse, fourth_model_voice = TabNet_modeling(third_selected_voice_feature, y)\n",
    "print(f\"BEST VALID SCORE FOR DATA : {val_rmse}\")\n",
    "print(f\"FINAL TEST SCORE FOR DATA : {test_rmse}\")"
   ]
  },
  {
   "cell_type": "markdown",
   "id": "fc94b7e4",
   "metadata": {},
   "source": [
    "- 독주"
   ]
  },
  {
   "cell_type": "code",
   "execution_count": 21,
   "id": "40809ef9",
   "metadata": {},
   "outputs": [],
   "source": [
    "# 최종 모델\n",
    "X = solo_feature.drop([i for i in solo_feature.columns if 'TARGET' in i], axis=1)\n",
    "y = solo_feature[[i for i in solo_feature.columns if 'TARGET' in i]]"
   ]
  },
  {
   "cell_type": "code",
   "execution_count": 22,
   "id": "7afd7dd0",
   "metadata": {},
   "outputs": [
    {
     "name": "stdout",
     "output_type": "stream",
     "text": [
      "\n",
      "Early stopping occurred at epoch 394 with best_epoch = 94 and best_valid_rmse = 0.39046\n",
      "BEST VALID SCORE FOR DATA : 0.3904626979699089\n",
      "FINAL TEST SCORE FOR DATA : 0.18251669189340375\n"
     ]
    }
   ],
   "source": [
    "first_selected_solo_feature, val_rmse, test_rmse, first_model_solo = TabNet_modeling(X, y)\n",
    "print(f\"BEST VALID SCORE FOR DATA : {val_rmse}\")\n",
    "print(f\"FINAL TEST SCORE FOR DATA : {test_rmse}\")"
   ]
  },
  {
   "cell_type": "code",
   "execution_count": 23,
   "id": "ffd79983",
   "metadata": {},
   "outputs": [
    {
     "name": "stdout",
     "output_type": "stream",
     "text": [
      "\n",
      "Early stopping occurred at epoch 513 with best_epoch = 213 and best_valid_rmse = 0.32068\n",
      "BEST VALID SCORE FOR DATA : Done!\n",
      "FINAL TEST SCORE FOR DATA : Done!\n"
     ]
    }
   ],
   "source": [
    "second_selected_solo_feature, val_rmse, test_rmse, second_model_solo = TabNet_modeling(first_selected_solo_feature, y)\n",
    "print(f\"BEST VALID SCORE FOR DATA : {val_rmse}\")\n",
    "print(f\"FINAL TEST SCORE FOR DATA : {test_rmse}\")"
   ]
  },
  {
   "cell_type": "markdown",
   "id": "b3e9ecd5",
   "metadata": {},
   "source": [
    "- 실내악"
   ]
  },
  {
   "cell_type": "code",
   "execution_count": 24,
   "id": "97c446f5",
   "metadata": {},
   "outputs": [],
   "source": [
    "X = chamber_feature.drop([i for i in chamber_feature.columns if 'TARGET' in i], axis=1)\n",
    "y = chamber_feature[[i for i in chamber_feature.columns if 'TARGET' in i]]"
   ]
  },
  {
   "cell_type": "code",
   "execution_count": 25,
   "id": "1846751c",
   "metadata": {},
   "outputs": [
    {
     "name": "stdout",
     "output_type": "stream",
     "text": [
      "\n",
      "Early stopping occurred at epoch 632 with best_epoch = 332 and best_valid_rmse = 0.25366\n",
      "BEST VALID SCORE FOR DATA : 0.25365698862744557\n",
      "FINAL TEST SCORE FOR DATA : 0.06997700386363327\n"
     ]
    }
   ],
   "source": [
    "# 최종 모델\n",
    "first_selected_chamber_feature, val_rmse, test_rmse, first_model_chamber = TabNet_modeling(X, y)\n",
    "print(f\"BEST VALID SCORE FOR DATA : {val_rmse}\")\n",
    "print(f\"FINAL TEST SCORE FOR DATA : {test_rmse}\")"
   ]
  },
  {
   "cell_type": "code",
   "execution_count": 26,
   "id": "017c8e59",
   "metadata": {},
   "outputs": [
    {
     "name": "stdout",
     "output_type": "stream",
     "text": [
      "\n",
      "Early stopping occurred at epoch 813 with best_epoch = 513 and best_valid_rmse = 0.12287\n",
      "BEST VALID SCORE FOR DATA : 0.12286779365576868\n",
      "FINAL TEST SCORE FOR DATA : 0.05712674240821076\n"
     ]
    }
   ],
   "source": [
    "second_selected_chamber_feature, val_rmse, test_rmse, second_model_chamber = TabNet_modeling(first_selected_chamber_feature, y)\n",
    "print(f\"BEST VALID SCORE FOR DATA : {val_rmse}\")\n",
    "print(f\"FINAL TEST SCORE FOR DATA : {test_rmse}\")"
   ]
  },
  {
   "cell_type": "code",
   "execution_count": 27,
   "id": "5c7ba797",
   "metadata": {},
   "outputs": [
    {
     "name": "stdout",
     "output_type": "stream",
     "text": [
      "\n",
      "Early stopping occurred at epoch 616 with best_epoch = 316 and best_valid_rmse = 0.22706\n",
      "BEST VALID SCORE FOR DATA : Done!\n",
      "FINAL TEST SCORE FOR DATA : Done!\n"
     ]
    }
   ],
   "source": [
    "third_selected_chamber_feature, val_rmse, test_rmse, third_model_chamber = TabNet_modeling(second_selected_chamber_feature, y)\n",
    "print(f\"BEST VALID SCORE FOR DATA : {val_rmse}\")\n",
    "print(f\"FINAL TEST SCORE FOR DATA : {test_rmse}\")"
   ]
  },
  {
   "cell_type": "markdown",
   "id": "21188669",
   "metadata": {},
   "source": [
    "## Save data"
   ]
  },
  {
   "cell_type": "code",
   "execution_count": 28,
   "id": "db47f318",
   "metadata": {},
   "outputs": [],
   "source": [
    "pickle.dump((fourth_selected_symphony_feature,\n",
    "             chorus_feature.drop([i for i in chorus_feature.columns if 'TARGET' in i], axis=1),\n",
    "             first_selected_voice_feature,\n",
    "             solo_feature.drop([i for i in solo_feature.columns if 'TARGET' in i], axis=1), \n",
    "             first_selected_chamber_feature), \n",
    "            open(f'../data/SaleRatePredictionFeatures_useful.pkl', 'wb'))"
   ]
  },
  {
   "cell_type": "code",
   "execution_count": null,
   "id": "b97ddf79",
   "metadata": {},
   "outputs": [],
   "source": []
  }
 ],
 "metadata": {
  "kernelspec": {
   "display_name": "Python 3 (ipykernel)",
   "language": "python",
   "name": "python3"
  },
  "language_info": {
   "codemirror_mode": {
    "name": "ipython",
    "version": 3
   },
   "file_extension": ".py",
   "mimetype": "text/x-python",
   "name": "python",
   "nbconvert_exporter": "python",
   "pygments_lexer": "ipython3",
   "version": "3.9.12"
  }
 },
 "nbformat": 4,
 "nbformat_minor": 5
}
