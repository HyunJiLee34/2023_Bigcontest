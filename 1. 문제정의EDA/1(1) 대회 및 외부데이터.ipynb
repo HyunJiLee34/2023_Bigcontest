{
 "cells": [
  {
   "cell_type": "markdown",
   "id": "5ed86521",
   "metadata": {},
   "source": [
    "## 대회 개요\n",
    "- `클래식`공연 중 `콘서트홀`에서 열리는 공연을 활성화하고자 한다.\n",
    "- 과제1)개인의 좌석 선호도, 공연특성(시작시간, 공연시간...) 등을 고려해 좌석 그룹핑 가설을 수립하고<br> \n",
    "  $\\qquad$기존 좌석등급 이외의 방식으로 `그룹핑`을 진행한다.<br>\n",
    "$\\qquad$ [공연장] https://www.sac.or.kr/site/main/content/concertHall<br>\n",
    "$\\qquad$ [대관절차] https://www.sac.or.kr/site/main/content/musicHallRentalProcedure\n",
    "- 과제2)좌석그룹별 `적정한 가격`을 산정한다."
   ]
  },
  {
   "cell_type": "markdown",
   "id": "d7b6f343",
   "metadata": {},
   "source": [
    "### 외부데이터\n",
    "- 2011~2022년 예술의 전당에서 진행된 공연 및 입장객수<br>\n",
    "  https://www.data.go.kr/data/15010271/fileData.do\n",
    "- 2022년 예술의 전당 회원제 가입자수<br>\n",
    "  https://www.data.go.kr/data/15111318/fileData.do\n",
    "- 2012~2020년 예술의 전당에서 진행한 이벤트 및 참여자수<br>\n",
    "  https://www.data.go.kr/data/15102814/fileData.do\n",
    "- `2022~2023년 예술의 전당에서 구매된 장애인석 정보`<br>\n",
    "  https://www.data.go.kr/data/15116351/fileData.do\n",
    "- 2022년 공연별 연령대 구매수<br>\n",
    "  https://www.data.go.kr/data/15115563/fileData.do\n",
    "- 2017~2022년 예술의 전당에서 진행한 공연명<br>\n",
    "  https://www.data.go.kr/data/3076480/fileData.do\n",
    "  "
   ]
  },
  {
   "cell_type": "markdown",
   "id": "45f411d2",
   "metadata": {},
   "source": [
    "- 공연정보 OpenAPI<br>\n",
    "  https://www.kopis.or.kr/por/cs/openapi/openApiList.do?menuId=MNU_00074&tabId=tab3_8<br>\n",
    "  https://kopis.or.kr/por/cs/openapi/openApiList.do?menuId=MNU_00074&tabId=tab1_1"
   ]
  },
  {
   "cell_type": "code",
   "execution_count": null,
   "id": "1a8d198c",
   "metadata": {},
   "outputs": [],
   "source": []
  }
 ],
 "metadata": {
  "kernelspec": {
   "display_name": "Python 3 (ipykernel)",
   "language": "python",
   "name": "python3"
  },
  "language_info": {
   "codemirror_mode": {
    "name": "ipython",
    "version": 3
   },
   "file_extension": ".py",
   "mimetype": "text/x-python",
   "name": "python",
   "nbconvert_exporter": "python",
   "pygments_lexer": "ipython3",
   "version": "3.9.7"
  }
 },
 "nbformat": 4,
 "nbformat_minor": 5
}
