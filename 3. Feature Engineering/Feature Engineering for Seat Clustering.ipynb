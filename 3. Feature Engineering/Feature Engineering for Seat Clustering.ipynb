{
 "cells": [
  {
   "cell_type": "markdown",
   "id": "56b2117e",
   "metadata": {},
   "source": [
    "## Import"
   ]
  },
  {
   "cell_type": "code",
   "execution_count": 1,
   "id": "00880251",
   "metadata": {},
   "outputs": [],
   "source": [
    "import pandas as pd\n",
    "import numpy as np\n",
    "import pickle\n",
    "\n",
    "# ignore warnings\n",
    "import warnings ; warnings.filterwarnings('ignore')"
   ]
  },
  {
   "cell_type": "markdown",
   "id": "baae691a",
   "metadata": {},
   "source": [
    "## Read data"
   ]
  },
  {
   "cell_type": "code",
   "execution_count": 2,
   "id": "8685c3b1",
   "metadata": {},
   "outputs": [],
   "source": [
    "data = pd.read_parquet('../data/DataCleansing_final.pqt')"
   ]
  },
  {
   "cell_type": "markdown",
   "id": "fccacdb7",
   "metadata": {},
   "source": [
    "## Feature Generation"
   ]
  },
  {
   "cell_type": "code",
   "execution_count": 3,
   "id": "3a998980",
   "metadata": {
    "scrolled": true
   },
   "outputs": [],
   "source": [
    "def basic_features(DATA):\n",
    "    ease = DATA.drop_duplicates('seat_label').set_index('seat_label').sort_index()\\\n",
    "           [['층','블록','열','층_1', '층_2', '층_3','층_합창석', 'BOX', \n",
    "             'side_seats', 'middle', 'left', 'right', 'front', 'mid', 'front_mid','back', \n",
    "             'piano_hallway','sound_quality', 'leg_free', '3rd_bad','bad_sound', 'singer_face','conductor_back','row_ratio']]\n",
    "    ease['층/블록'] = ease['층']+ease['블록']\n",
    "    return ease.drop('블록', axis=1)"
   ]
  },
  {
   "cell_type": "code",
   "execution_count": 4,
   "id": "6f1e1268",
   "metadata": {},
   "outputs": [],
   "source": [
    "def booked_features(DATA):\n",
    "    ease = DATA.groupby(['seat_label','층'])['price'].size().rename('booked_count').reset_index()\n",
    "    # 합창석은 일부 공연만 예매할 수 있도록 좌석을 풀기에 예매율 산출 시 별도로 구해야 한다.\n",
    "    total, exp = DATA.performance_label.nunique(), DATA.query('층==\"합창석\"').performance_label.nunique()\n",
    "    ease['booking_rate'] = ease[['층','booked_count']].apply(lambda x: round((x[1]/exp)*100, 3) if x[0]==\"합창석\" else round((x[1]/total)*100, 3), axis=1)\n",
    "    return ease.set_index('seat_label')[['booked_count','booking_rate']]"
   ]
  },
  {
   "cell_type": "code",
   "execution_count": 5,
   "id": "08737949",
   "metadata": {},
   "outputs": [],
   "source": [
    "def time_features(DATA):\n",
    "    return DATA.groupby('seat_label')['res_time_rank_scaled'].mean().apply(lambda x: round(x, 4)).rename('res_time_rank_mean')"
   ]
  },
  {
   "cell_type": "markdown",
   "id": "9df294d9",
   "metadata": {},
   "source": [
    "- 교향곡"
   ]
  },
  {
   "cell_type": "code",
   "execution_count": 6,
   "id": "c697ca86",
   "metadata": {},
   "outputs": [],
   "source": [
    "symphony_features = pd.concat([basic_features(data), \n",
    "                                       booked_features(data.query('genre==\"교향곡\"')),\n",
    "                                       time_features(data.query('genre==\"교향곡\"'))], axis=1)"
   ]
  },
  {
   "cell_type": "markdown",
   "id": "68047784",
   "metadata": {},
   "source": [
    "- 합창"
   ]
  },
  {
   "cell_type": "code",
   "execution_count": 7,
   "id": "8a14ec3e",
   "metadata": {},
   "outputs": [],
   "source": [
    "chorus_features = pd.concat([basic_features(data), \n",
    "                                     booked_features(data.query('genre==\"합창\"')),\n",
    "                                     time_features(data.query('genre==\"합창\"'))], axis=1)"
   ]
  },
  {
   "cell_type": "markdown",
   "id": "f1c687cc",
   "metadata": {},
   "source": [
    "- 성악"
   ]
  },
  {
   "cell_type": "code",
   "execution_count": 8,
   "id": "1c872d87",
   "metadata": {},
   "outputs": [],
   "source": [
    "voice_features = pd.concat([basic_features(data), \n",
    "                                    booked_features(data.query('genre==\"성악\"')),\n",
    "                                   time_features(data.query('genre==\"성악\"'))], axis=1)"
   ]
  },
  {
   "cell_type": "markdown",
   "id": "4ac9b049",
   "metadata": {},
   "source": [
    "- 독주"
   ]
  },
  {
   "cell_type": "code",
   "execution_count": 9,
   "id": "9f6ff467",
   "metadata": {},
   "outputs": [],
   "source": [
    "solo_features = pd.concat([basic_features(data), \n",
    "                                   booked_features(data.query('genre==\"독주\"')),\n",
    "                                   time_features(data.query('genre==\"독주\"'))], axis=1)"
   ]
  },
  {
   "cell_type": "markdown",
   "id": "ffbb41ca",
   "metadata": {},
   "source": [
    "- 실내악"
   ]
  },
  {
   "cell_type": "code",
   "execution_count": 10,
   "id": "ad19327c",
   "metadata": {},
   "outputs": [],
   "source": [
    "chamber_features = pd.concat([basic_features(data), \n",
    "                                      booked_features(data.query('genre==\"실내악\"')),\n",
    "                                      time_features(data.query('genre==\"실내악\"'))], axis=1)"
   ]
  },
  {
   "cell_type": "markdown",
   "id": "97c75d70",
   "metadata": {},
   "source": [
    "## Feature Transformation"
   ]
  },
  {
   "cell_type": "markdown",
   "id": "c5aa7b2f",
   "metadata": {},
   "source": [
    "- 교향곡"
   ]
  },
  {
   "cell_type": "code",
   "execution_count": 11,
   "id": "af77f1f1",
   "metadata": {},
   "outputs": [],
   "source": [
    "symphony_features['res_time_rank_mean'] = 1 - symphony_features['res_time_rank_mean']\n",
    "symphony_features['row_ratio'] = 1 - symphony_features['row_ratio']"
   ]
  },
  {
   "cell_type": "markdown",
   "id": "bab07a1d",
   "metadata": {},
   "source": [
    "- 합창"
   ]
  },
  {
   "cell_type": "code",
   "execution_count": 12,
   "id": "266b335c",
   "metadata": {},
   "outputs": [],
   "source": [
    "chorus_features['res_time_rank_mean'] = 1 - chorus_features['res_time_rank_mean']\n",
    "chorus_features['row_ratio'] = 1 - chorus_features['row_ratio']"
   ]
  },
  {
   "cell_type": "markdown",
   "id": "cf636f92",
   "metadata": {},
   "source": [
    "- 성악"
   ]
  },
  {
   "cell_type": "code",
   "execution_count": 13,
   "id": "ad3bd303",
   "metadata": {},
   "outputs": [],
   "source": [
    "voice_features['res_time_rank_mean'] = 1 - voice_features['res_time_rank_mean']\n",
    "voice_features['row_ratio'] = 1 - voice_features['row_ratio']"
   ]
  },
  {
   "cell_type": "markdown",
   "id": "6cb4eb12",
   "metadata": {},
   "source": [
    "- 독주"
   ]
  },
  {
   "cell_type": "code",
   "execution_count": 14,
   "id": "bf0c8eeb",
   "metadata": {},
   "outputs": [],
   "source": [
    "solo_features['res_time_rank_mean'] = 1 - solo_features['res_time_rank_mean']\n",
    "solo_features['row_ratio'] = 1 - solo_features['row_ratio']"
   ]
  },
  {
   "cell_type": "markdown",
   "id": "dc5cbd20",
   "metadata": {},
   "source": [
    "- 실내악"
   ]
  },
  {
   "cell_type": "code",
   "execution_count": 15,
   "id": "7d7c02e7",
   "metadata": {},
   "outputs": [],
   "source": [
    "chamber_features['res_time_rank_mean'] = 1 - chamber_features['res_time_rank_mean']\n",
    "chamber_features['row_ratio'] = 1 - chamber_features['row_ratio']"
   ]
  },
  {
   "cell_type": "markdown",
   "id": "60d8942c",
   "metadata": {},
   "source": [
    "## Feature Selection"
   ]
  },
  {
   "cell_type": "markdown",
   "id": "bdb1f1ed",
   "metadata": {},
   "source": [
    "- 교향곡"
   ]
  },
  {
   "cell_type": "code",
   "execution_count": 16,
   "id": "181a7f19",
   "metadata": {},
   "outputs": [],
   "source": [
    "unuse = ['front_mid','singer_face']\n",
    "symphony_features.drop(unuse, axis=1, inplace=True)"
   ]
  },
  {
   "cell_type": "markdown",
   "id": "69927a31",
   "metadata": {},
   "source": [
    "- 합창"
   ]
  },
  {
   "cell_type": "code",
   "execution_count": 17,
   "id": "ebf43a7b",
   "metadata": {},
   "outputs": [],
   "source": [
    "unuse = ['front_mid','piano_hallway','bad_sound', 'singer_face']\n",
    "chorus_features.drop(unuse, axis=1, inplace=True)"
   ]
  },
  {
   "cell_type": "markdown",
   "id": "ea7d9fd9",
   "metadata": {},
   "source": [
    "- 성악"
   ]
  },
  {
   "cell_type": "code",
   "execution_count": 18,
   "id": "de5a273c",
   "metadata": {},
   "outputs": [],
   "source": [
    "unuse = ['front_mid','sound_quality','conductor_back']\n",
    "voice_features.drop(unuse, axis=1, inplace=True)"
   ]
  },
  {
   "cell_type": "markdown",
   "id": "45b05913",
   "metadata": {},
   "source": [
    "- 독주"
   ]
  },
  {
   "cell_type": "code",
   "execution_count": 19,
   "id": "4a063b8d",
   "metadata": {},
   "outputs": [],
   "source": [
    "unuse = ['front_mid','sound_quality','bad_sound', 'singer_face','conductor_back']\n",
    "solo_features.drop(unuse, axis=1, inplace=True)"
   ]
  },
  {
   "cell_type": "markdown",
   "id": "649ccfff",
   "metadata": {},
   "source": [
    "- 실내악"
   ]
  },
  {
   "cell_type": "code",
   "execution_count": 20,
   "id": "eceec875",
   "metadata": {},
   "outputs": [],
   "source": [
    "unuse = ['piano_hallway','singer_face','conductor_back']\n",
    "chamber_features.drop(unuse, axis=1, inplace=True)"
   ]
  },
  {
   "cell_type": "markdown",
   "id": "cafd73e0",
   "metadata": {},
   "source": [
    "## Save data"
   ]
  },
  {
   "cell_type": "code",
   "execution_count": 21,
   "id": "8f73253f",
   "metadata": {},
   "outputs": [],
   "source": [
    "pickle.dump((symphony_features, chorus_features, voice_features, solo_features, chamber_features), \n",
    "            open(f'../data/ClusteringFeatures.pkl', 'wb'))"
   ]
  },
  {
   "cell_type": "code",
   "execution_count": null,
   "id": "c0096216",
   "metadata": {},
   "outputs": [],
   "source": []
  }
 ],
 "metadata": {
  "kernelspec": {
   "display_name": "Python 3 (ipykernel)",
   "language": "python",
   "name": "python3"
  },
  "language_info": {
   "codemirror_mode": {
    "name": "ipython",
    "version": 3
   },
   "file_extension": ".py",
   "mimetype": "text/x-python",
   "name": "python",
   "nbconvert_exporter": "python",
   "pygments_lexer": "ipython3",
   "version": "3.9.12"
  }
 },
 "nbformat": 4,
 "nbformat_minor": 5
}
