{
 "cells": [
  {
   "cell_type": "markdown",
   "id": "c5c365f5",
   "metadata": {},
   "source": [
    "## Import"
   ]
  },
  {
   "cell_type": "code",
   "execution_count": 1,
   "id": "6de73e17",
   "metadata": {},
   "outputs": [],
   "source": [
    "import pandas as pd\n",
    "import numpy as np\n",
    "import pickle\n",
    "\n",
    "# W2V\n",
    "import re\n",
    "from gensim.models.doc2vec import Doc2Vec, TaggedDocument\n",
    "from nltk.tokenize import word_tokenize\n",
    "\n",
    "# ignore warnings\n",
    "import warnings ; warnings.filterwarnings('ignore')"
   ]
  },
  {
   "cell_type": "markdown",
   "id": "11916125",
   "metadata": {},
   "source": [
    "## Read data"
   ]
  },
  {
   "cell_type": "code",
   "execution_count": 2,
   "id": "2fc07cb0",
   "metadata": {},
   "outputs": [],
   "source": [
    "data = pd.read_parquet('../data/DataCleansing_final.pqt')"
   ]
  },
  {
   "cell_type": "code",
   "execution_count": 3,
   "id": "35068741",
   "metadata": {},
   "outputs": [],
   "source": [
    "# 장르별 Clustering 결과를 불러온다.\n",
    "symphony, chorus, voice, solo, chamber = pickle.load(open(f'../data/ClusteringResult.pkl','rb'))"
   ]
  },
  {
   "cell_type": "code",
   "execution_count": 4,
   "id": "f3e47ff1",
   "metadata": {
    "scrolled": true
   },
   "outputs": [
    {
     "name": "stdout",
     "output_type": "stream",
     "text": [
      "교향곡 데이터수: 476396\n",
      "합창 데이터수: 108114\n",
      "성악 데이터수: 38279\n",
      "독주 데이터수: 58517\n",
      "실내악 데이터수: 33189\n"
     ]
    }
   ],
   "source": [
    "data_symphony = data.query('genre==\"교향곡\"').merge(symphony[['seat_label', 'cluster']], on='seat_label')\n",
    "print(f'교향곡 데이터수: {data_symphony.shape[0]}')\n",
    "\n",
    "data_chorus = data.query('genre==\"합창\"').merge(chorus[['seat_label', 'cluster']], on='seat_label')\n",
    "print(f'합창 데이터수: {data_chorus.shape[0]}')\n",
    "\n",
    "data_voice = data.query('genre==\"성악\"').merge(voice[['seat_label', 'cluster']], on='seat_label')\n",
    "print(f'성악 데이터수: {data_voice.shape[0]}')\n",
    "\n",
    "data_solo = data.query('genre==\"독주\"').merge(solo[['seat_label', 'cluster']], on='seat_label')\n",
    "print(f'독주 데이터수: {data_solo.shape[0]}')\n",
    "\n",
    "data_chamber = data.query('genre==\"실내악\"').merge(chamber[['seat_label', 'cluster']], on='seat_label')\n",
    "print(f'실내악 데이터수: {data_chamber.shape[0]}')"
   ]
  },
  {
   "cell_type": "markdown",
   "id": "e19ade99",
   "metadata": {},
   "source": [
    "## Feature Generation\n",
    "장르별 Clustering 결과에 Feature Generation 함수를 적용할 수 있도록 한다."
   ]
  },
  {
   "cell_type": "markdown",
   "id": "69c0c088",
   "metadata": {},
   "source": [
    "- 기초 Features<br>\n",
    "  : 공연년도, 공연월, 공연시간, 공연요일, 예매년도, 예매월, 선예매기간, 공연일과 예매일 차이, 공연진행시간, 휴식시간, 좌석등급수<br>\n",
    "  $~$ 공연진행시간 대비 휴식시간, 동월 해당장르 공연수, 동월 전체 공연 대비 해당장르 공연수, 평균 예매수"
   ]
  },
  {
   "cell_type": "code",
   "execution_count": 5,
   "id": "7fc3d2ed",
   "metadata": {},
   "outputs": [],
   "source": [
    "def basic_features(DATA):\n",
    "    ease = DATA.drop_duplicates('performance_label')\\\n",
    "           [['performance_label','play_year','play_month','play_time','play_weekday','open_year','open_month',\n",
    "             'pre_open_gap','open_gap','running_time','intermission','n_grade']]\n",
    "    # 공연진행시간 대비 휴식시간\n",
    "    ease['intermission_rate'] = (ease['intermission'] / ease['running_time']).apply(lambda x: 0 if x==np.infty else x)\n",
    "    # 월별 공연수, 전체 공연 대비 공연수\n",
    "    month = DATA.groupby(['play_year','play_month'])['performance_label'].nunique().rename('n_performance_month')\n",
    "    month = pd.concat([month, \n",
    "                       month.divide(data.groupby(['play_year','play_month'])['performance_label'].nunique().loc[month.index]).rename('n_performance_rate')], axis=1)\n",
    "    ease = ease.merge(month.reset_index(),\n",
    "                      on=['play_year','play_month']).set_index('performance_label').sort_index()\n",
    "    \n",
    "    # 평균 예매수\n",
    "    performance = DATA.groupby(['play_date','performance_label'])['price'].size().reset_index()\n",
    "    performance['sales'] = pd.Series(np.append(np.nan, \n",
    "                                     performance['price'].cumsum()[:-1].reset_index(drop=True)\\\n",
    "                                     .divide(pd.Series(range(1, performance.shape[0])), axis=0).values.flatten()), index=performance.index)\n",
    "    performance['sales'].fillna(performance['sales'].mean(), inplace=True)\n",
    "    performance['rolling_sales'] = performance['price'].rolling(2, closed='left').mean()\n",
    "    performance['rolling_sales'].fillna(performance['rolling_sales'].mean(), inplace=True)\n",
    "    return pd.concat([ease, performance.set_index('performance_label')[['sales','rolling_sales']]], axis=1)"
   ]
  },
  {
   "cell_type": "markdown",
   "id": "8930ae76",
   "metadata": {},
   "source": [
    "- 좌석특성별 시계열 평균 예매수 관련 Features<br>\n",
    "  :피아노뷰 통로좌석, 사운드 좌석, 다리 피는 좌석, 3층 안좋은 좌석, 소리가 안좋은 좌석, 지휘자 뒤를 보는 좌석"
   ]
  },
  {
   "cell_type": "code",
   "execution_count": 6,
   "id": "c04329fb",
   "metadata": {},
   "outputs": [],
   "source": [
    "def seat_features(DATA):\n",
    "    # 피아노뷰 통로좌석\n",
    "    piano = pd.pivot_table(DATA, index=['play_date','performance_label'], columns='piano_hallway',\n",
    "                           values='seat_label',aggfunc=np.size).cumsum().reset_index()\n",
    "    piano['piano_0'] = np.append(np.nan, piano.iloc[:-1,-2].divide(pd.Series(range(1,piano.shape[0])), axis=0).values.flatten())\n",
    "    piano['piano_1'] = np.append(np.nan, piano.iloc[:-1,-1].divide(pd.Series(range(1,piano.shape[0])), axis=0).values.flatten())\n",
    "    piano[['piano_0','piano_1']] = piano[['piano_0','piano_1']].fillna(piano[['piano_0','piano_1']].mean())\n",
    "    \n",
    "    # 사운드 좌석\n",
    "    sound = pd.pivot_table(DATA, index=['play_date','performance_label'], columns='sound_quality',\n",
    "                           values='seat_label',aggfunc=np.size).cumsum().reset_index()\n",
    "    sound['sound_0'] = np.append(np.nan, sound.iloc[:-1,-2].divide(pd.Series(range(1,sound.shape[0])), axis=0).values.flatten())\n",
    "    sound['sound_1'] = np.append(np.nan, sound.iloc[:-1,-1].divide(pd.Series(range(1,sound.shape[0])), axis=0).values.flatten())\n",
    "    sound[['sound_0','sound_1']] = sound[['sound_0','sound_1']].fillna(sound[['sound_0','sound_1']].mean())\n",
    "    \n",
    "    # 다리 피는 좌석\n",
    "    leg = pd.pivot_table(DATA, index=['play_date','performance_label'], columns='leg_free',\n",
    "                           values='seat_label',aggfunc=np.size).cumsum().reset_index()\n",
    "    leg['leg_0'] = np.append(np.nan, leg.iloc[:-1,-2].divide(pd.Series(range(1,leg.shape[0])), axis=0).values.flatten())\n",
    "    leg['leg_1'] = np.append(np.nan, leg.iloc[:-1,-1].divide(pd.Series(range(1,leg.shape[0])), axis=0).values.flatten())\n",
    "    leg[['leg_0','leg_1']] = leg[['leg_0','leg_1']].fillna(leg[['leg_0','leg_1']].mean())\n",
    "    \n",
    "    # 3층 안좋은 좌석\n",
    "    thirdbad = pd.pivot_table(DATA, index=['play_date','performance_label'], columns='3rd_bad',\n",
    "                           values='seat_label',aggfunc=np.size).cumsum().reset_index()\n",
    "    thirdbad['thirdbad_0'] = np.append(np.nan, thirdbad.iloc[:-1,-2].divide(pd.Series(range(1,thirdbad.shape[0])), axis=0).values.flatten())\n",
    "    thirdbad['thirdbad_1'] = np.append(np.nan, thirdbad.iloc[:-1,-1].divide(pd.Series(range(1,thirdbad.shape[0])), axis=0).values.flatten())\n",
    "    thirdbad[['thirdbad_0','thirdbad_1']] = thirdbad[['thirdbad_0','thirdbad_1']].fillna(thirdbad[['thirdbad_0','thirdbad_1']].mean())\n",
    "    \n",
    "    # 소리가 안좋은 좌석\n",
    "    bad = pd.pivot_table(DATA, index=['play_date','performance_label'], columns='bad_sound',\n",
    "                           values='seat_label',aggfunc=np.size).cumsum().reset_index()\n",
    "    bad['bad_0'] = np.append(np.nan, bad.iloc[:-1,-2].divide(pd.Series(range(1,bad.shape[0])), axis=0).values.flatten())\n",
    "    bad['bad_1'] = np.append(np.nan, bad.iloc[:-1,-1].divide(pd.Series(range(1,bad.shape[0])), axis=0).values.flatten())\n",
    "    bad[['bad_0','bad_1']] = bad[['bad_0','bad_1']].fillna(bad[['bad_0','bad_1']].mean()) \n",
    "    \n",
    "    # 지휘자 뒤를 보는 좌석\n",
    "    back = pd.pivot_table(DATA, index=['play_date','performance_label'], columns='conductor_back',\n",
    "                           values='seat_label',aggfunc=np.size).cumsum().reset_index()\n",
    "    back['back_0'] = np.append(np.nan, back.iloc[:-1,-2].divide(pd.Series(range(1,back.shape[0])), axis=0).values.flatten())\n",
    "    back['back_1'] = np.append(np.nan, back.iloc[:-1,-1].divide(pd.Series(range(1,back.shape[0])), axis=0).values.flatten())\n",
    "    back[['back_0','back_1']] = back[['back_0','back_1']].fillna(back[['back_0','back_1']].mean())\n",
    "    return pd.concat([piano.set_index('performance_label')[['piano_0','piano_1']],\n",
    "                      sound.set_index('performance_label')[['sound_0','sound_1']],\n",
    "                      leg.set_index('performance_label')[['leg_0','leg_1']],\n",
    "                      thirdbad.set_index('performance_label')[['thirdbad_0','thirdbad_1']],\n",
    "                      bad.set_index('performance_label')[['bad_0','bad_1']],\n",
    "                      back.set_index('performance_label')[['back_0','back_1']]], axis=1)"
   ]
  },
  {
   "cell_type": "code",
   "execution_count": 7,
   "id": "abd8ccb1",
   "metadata": {},
   "outputs": [],
   "source": [
    "def seat_rolling_features(DATA):\n",
    "    # 피아노뷰 통로좌석\n",
    "    piano = pd.pivot_table(DATA, index=['play_date','performance_label'], columns='piano_hallway',\n",
    "                           values='seat_label',aggfunc=np.size).rolling(2, closed='left').mean()\n",
    "    piano.columns = ['piano_0','piano_1']\n",
    "    piano[['piano_0','piano_1']] = piano[['piano_0','piano_1']].fillna(piano[['piano_0','piano_1']].mean())\n",
    "    \n",
    "    # 사운드 좌석\n",
    "    sound = pd.pivot_table(DATA, index=['play_date','performance_label'], columns='sound_quality',\n",
    "                           values='seat_label',aggfunc=np.size).rolling(2, closed='left').mean()\n",
    "    sound.columns = ['sound_0','sound_1']\n",
    "    sound[['sound_0','sound_1']] = sound[['sound_0','sound_1']].fillna(sound[['sound_0','sound_1']].mean())\n",
    "    \n",
    "    # 다리 피는 좌석\n",
    "    leg = pd.pivot_table(DATA, index=['play_date','performance_label'], columns='leg_free',\n",
    "                           values='seat_label',aggfunc=np.size).rolling(2, closed='left').mean()\n",
    "    leg.columns = ['leg_0','leg_1']\n",
    "    leg[['leg_0','leg_1']] = leg[['leg_0','leg_1']].fillna(leg[['leg_0','leg_1']].mean())\n",
    "    \n",
    "    # 3층 안좋은 좌석\n",
    "    thirdbad = pd.pivot_table(DATA, index=['play_date','performance_label'], columns='3rd_bad',\n",
    "                           values='seat_label',aggfunc=np.size).rolling(2, closed='left').mean()\n",
    "    thirdbad.columns = ['thirdbad_0','thirdbad_1']\n",
    "    thirdbad[['thirdbad_0','thirdbad_1']] = thirdbad[['thirdbad_0','thirdbad_1']].fillna(thirdbad[['thirdbad_0','thirdbad_1']].mean())\n",
    "    \n",
    "    # 소리가 안좋은 좌석\n",
    "    bad = pd.pivot_table(DATA, index=['play_date','performance_label'], columns='bad_sound',\n",
    "                           values='seat_label',aggfunc=np.size).rolling(2, closed='left').mean()\n",
    "    bad.columns = ['bad_0','bad_1']\n",
    "    bad[['bad_0','bad_1']] = bad[['bad_0','bad_1']].fillna(bad[['bad_0','bad_1']].mean())\n",
    "    \n",
    "    # 지휘자 뒤를 보는 좌석\n",
    "    back = pd.pivot_table(DATA, index=['play_date','performance_label'], columns='conductor_back',\n",
    "                           values='seat_label',aggfunc=np.size).rolling(2, closed='left').mean()\n",
    "    back.columns = ['back_0','back_1']\n",
    "    back[['back_0','back_1']] = back[['back_0','back_1']].fillna(back[['back_0','back_1']].mean())\n",
    "    \n",
    "    # 이동평균으로 구한 것을 구분하기 위해 rolling을 붙인다.\n",
    "    ease = pd.concat([piano.reset_index().set_index('performance_label')[['piano_0','piano_1']],\n",
    "                      sound.reset_index().set_index('performance_label')[['sound_0','sound_1']],\n",
    "                      leg.reset_index().set_index('performance_label')[['leg_0','leg_1']],\n",
    "                      thirdbad.reset_index().set_index('performance_label')[['thirdbad_0','thirdbad_1']],\n",
    "                      bad.reset_index().set_index('performance_label')[['bad_0','bad_1']],\n",
    "                      back.reset_index().set_index('performance_label')[['back_0','back_1']]], axis=1)\n",
    "    ease.columns = [f'rolling_{i}' for i in ease.columns]\n",
    "    return ease"
   ]
  },
  {
   "cell_type": "markdown",
   "id": "85123103",
   "metadata": {},
   "source": [
    "- 가격 관련 Features<br>\n",
    "  : 등급별 가격"
   ]
  },
  {
   "cell_type": "code",
   "execution_count": 8,
   "id": "27d1a36c",
   "metadata": {},
   "outputs": [],
   "source": [
    "def price_features(DATA):\n",
    "    grade = DATA.dropna(subset=['origin_price']).query('origin_price != 0')\\\n",
    "           .groupby('performance_label')['origin_price'].unique()\n",
    "    grade = grade.apply(lambda x: sorted(x, reverse=True)+[0]*(5-len(x)))\n",
    "    grade = pd.DataFrame([*grade.values], index=grade.index, columns=[f'G{i}' for i in range(1,6)])//1000\n",
    "    \n",
    "    rate = DATA.groupby(['play_date','performance_label'])[['price','origin_price']].sum().cumsum()\n",
    "    rate['price_rate'] = rate['price']/rate['origin_price']\n",
    "    rate = pd.Series(np.append(np.nan, \n",
    "                               rate['price_rate'].iloc[:-1].reset_index(drop=True)\\\n",
    "                               .divide(pd.Series(range(1, len(rate))), axis=0).values.flatten()),\n",
    "                     index=rate.index,name='price_rate').fillna(rate.mean())\n",
    "    \n",
    "    rolling_rate = DATA.groupby(['play_date','performance_label'])[['price','origin_price']].sum()\n",
    "    rolling_rate['rolling_price_rate'] = (rolling_rate['price']/rolling_rate['origin_price']).rolling(2, closed='left').mean()\n",
    "    rolling_rate['rolling_price_rate'].fillna(rolling_rate['rolling_price_rate'].mean(), inplace=True)\n",
    "    return pd.concat([grade, rate.reset_index().set_index('performance_label')['price_rate'], \n",
    "                      rolling_rate.reset_index().set_index('performance_label')['rolling_price_rate']], axis=1)"
   ]
  },
  {
   "cell_type": "markdown",
   "id": "07a11f76",
   "metadata": {},
   "source": [
    "- 날짜 간격 관련 Features<br>\n",
    "  :최초 100개 공연 매진까지 걸린 시간의 시계열평균, 예매와 공연일 차이의 시계열평균 "
   ]
  },
  {
   "cell_type": "code",
   "execution_count": 9,
   "id": "72812527",
   "metadata": {},
   "outputs": [],
   "source": [
    "def gap_features(DATA):\n",
    "    tran = DATA.groupby(['play_date','performance_label'])[['tran_gap']].agg(lambda x: np.mean(sorted(x[:100])))\n",
    "    tran['100_tran_gap'] = pd.Series(np.append(np.nan, \n",
    "                                     tran.cumsum()[:-1].reset_index(drop=True)\\\n",
    "                                     .divide(pd.Series(range(1, len(tran))), axis=0).values.flatten()),index=tran.index)\n",
    "    tran['100_tran_gap'].fillna(tran['100_tran_gap'].mean(), inplace=True)\n",
    "    \n",
    "    play = DATA.groupby(['play_date','performance_label'])[['play_gap']].mean()\n",
    "    play['play_gap'] = pd.Series(np.append(np.nan, \n",
    "                                           play.cumsum()[:-1].reset_index(drop=True)\\\n",
    "                                           .divide(pd.Series(range(1, len(play))), axis=0).values.flatten()),index=play.index)\n",
    "    play['play_gap'].fillna(play['play_gap'].mean(), inplace=True)\n",
    "    \n",
    "    return pd.concat([tran.reset_index().set_index('performance_label')['100_tran_gap'],\n",
    "                       play.reset_index().set_index('performance_label')['play_gap']], axis=1)"
   ]
  },
  {
   "cell_type": "code",
   "execution_count": 10,
   "id": "4e2699aa",
   "metadata": {},
   "outputs": [],
   "source": [
    "def gap_rolling_features(DATA):\n",
    "    tran = DATA.groupby(['play_date','performance_label'])['tran_gap'].agg(lambda x: np.mean(sorted(x[:100])))\\\n",
    "           .rolling(3, closed='left').mean().rename('rolling_100_tran_gap')\n",
    "    tran.fillna(tran.mean(), inplace=True)\n",
    "    \n",
    "    play = DATA.groupby(['play_date','performance_label'])['play_gap'].mean().rolling(2, closed='left').mean()\\\n",
    "           .rename('rolling_play_gap')\n",
    "    play.fillna(play.mean(), inplace=True)\n",
    "    \n",
    "    return pd.concat([tran.reset_index().set_index('performance_label')['rolling_100_tran_gap'],\n",
    "                       play.reset_index().set_index('performance_label')['rolling_play_gap']], axis=1)"
   ]
  },
  {
   "cell_type": "markdown",
   "id": "071d9346",
   "metadata": {},
   "source": [
    "- 공연명 Word2Vec"
   ]
  },
  {
   "cell_type": "code",
   "execution_count": 11,
   "id": "b72368f4",
   "metadata": {},
   "outputs": [],
   "source": [
    "def W2V(DATA):\n",
    "    ease = DATA.drop_duplicates('performance_label').set_index('performance_label').sort_index()[['공연명전처리']]\n",
    "    ease = ease.dropna(subset=['공연명전처리'])\n",
    "    # 토큰화\n",
    "    data_words = [word_tokenize(title) for title in ease['공연명전처리'].dropna()]\n",
    "    # TaggedDocument 객체 생성\n",
    "    documents = [TaggedDocument(doc, [i]) for i, doc in enumerate(data_words)]\n",
    "\n",
    "    # Doc2Vec 모델 초기화\n",
    "    model = Doc2Vec(vector_size=2, window=2, min_count=1, workers=4, epochs=100)\n",
    "    # 모델 어휘 구축\n",
    "    model.build_vocab(documents)\n",
    "    # 모델 훈련\n",
    "    model.train(documents, total_examples=model.corpus_count, epochs=model.epochs)\n",
    "\n",
    "    return pd.DataFrame([model.infer_vector(doc_words) for i, doc_words in enumerate(data_words)], \n",
    "                         index=ease.index, columns=['vector_{}'.format(i) for i in range(model.vector_size)])"
   ]
  },
  {
   "cell_type": "markdown",
   "id": "bce3d668",
   "metadata": {},
   "source": [
    "- 클러스터 관련 Features<br>\n",
    "  :클러스터별 평균 예매수, 클러스터별 최초 50개 예매 발생까지의 평균 시간, 클러스터별 예매가격/정가"
   ]
  },
  {
   "cell_type": "code",
   "execution_count": 12,
   "id": "daf0c192",
   "metadata": {},
   "outputs": [],
   "source": [
    "def cluster_features(DATA):\n",
    "    # 클러스터별 평균 예매수\n",
    "    sale = pd.pivot_table(DATA, index=['play_date','performance_label'], columns='cluster', values='seat_label',\n",
    "                          aggfunc=np.size, fill_value=0).reset_index()\n",
    "    for i in sale.columns[2:]:\n",
    "        sale[f'meansale_{i}'] = np.append(np.nan, \n",
    "                                          sale[i].iloc[:-1].divide(pd.Series(range(1,sale.shape[0])), axis=0).values.flatten())\n",
    "    sale.fillna(sale[[i for i in sale.columns if 'meansale_' in str(i)]].mean(), inplace=True)\n",
    "    \n",
    "    # 클러스터별 최초 50개 예매 발생까지의 평균 시간\n",
    "    time = pd.pivot_table(DATA, index=['play_date','performance_label'], columns='cluster', values='tran_gap',\n",
    "                          aggfunc=lambda x: np.mean(sorted(x[:50]))).reset_index()\n",
    "    for i in time.columns[2:]:\n",
    "        time[f'tran_gap_{i}'] = np.append(np.nan, \n",
    "                                         time[i].iloc[:-1].divide(pd.Series(range(1,time.shape[0])), axis=0).values.flatten())\n",
    "    time.fillna(time[[i for i in time.columns if 'tran_gap_' in str(i)]].mean(), inplace=True)\n",
    "    \n",
    "    # 예매가격/정가\n",
    "    price_rate = pd.pivot_table(DATA, index=['play_date','performance_label'], columns='cluster', values='price', aggfunc=sum)\\\n",
    "                 .divide(pd.pivot_table(DATA, index=['play_date','performance_label'], columns='cluster', values='origin_price', \n",
    "                                        aggfunc=sum, fill_value=0), axis=0)\\\n",
    "                 .applymap(lambda x: np.nan if x==np.infty else x).reset_index()\n",
    "    for i in price_rate.columns[2:]:\n",
    "        price_rate[f'price_rate_{i}'] = np.append(np.nan, \n",
    "                                                  price_rate[i].iloc[:-1].divide(pd.Series(range(1,price_rate.shape[0])), axis=0).values.flatten())\n",
    "    price_rate.fillna(price_rate[[i for i in price_rate.columns if 'price_rate_' in str(i)]].mean(), inplace=True)\n",
    "    \n",
    "    return pd.concat([sale.set_index('performance_label')[[i for i in sale.columns if 'meansale_' in str(i)]],\n",
    "                      time.set_index('performance_label')[[i for i in time.columns if 'tran_gap_' in str(i)]],\n",
    "                      price_rate.set_index('performance_label')[[i for i in price_rate.columns if 'price_rate_' in str(i)]]], axis=1)"
   ]
  },
  {
   "cell_type": "code",
   "execution_count": 13,
   "id": "90fd2586",
   "metadata": {},
   "outputs": [],
   "source": [
    "def cluster_rolling_features(DATA):\n",
    "    # 클러스터별 평균 예매수\n",
    "    sale = pd.pivot_table(DATA, index=['play_date','performance_label'], columns='cluster', values='seat_label',\n",
    "                          aggfunc=np.size, fill_value=0).rolling(2, closed='left').mean()\n",
    "    sale.fillna(sale.mean(), inplace=True)\n",
    "    sale.columns = [f'rolling_meansale_{i}' for i in sale.columns]\n",
    "\n",
    "    # 클러스터별 최초 50개 예매 발생까지의 평균 시간\n",
    "    time = pd.pivot_table(DATA, index=['play_date','performance_label'], columns='cluster', values='tran_gap',\n",
    "                          aggfunc=lambda x: np.mean(sorted(x[:50]))).rolling(2, closed='left').mean()\n",
    "    time.fillna(time.mean(), inplace=True)\n",
    "    time.columns = [f'rolling_tran_gap_{i}' for i in time.columns]\n",
    "\n",
    "    # 예매가격/정가\n",
    "    price_rate = pd.pivot_table(DATA, index=['play_date','performance_label'], columns='cluster', values='price', aggfunc=sum)\\\n",
    "                 .divide(pd.pivot_table(DATA, index=['play_date','performance_label'], columns='cluster', values='origin_price', \n",
    "                                        aggfunc=sum, fill_value=0), axis=0)\\\n",
    "                 .rolling(2, closed='left').mean().applymap(lambda x: np.nan if x==np.infty else x)\n",
    "    price_rate.fillna(price_rate.mean(), inplace=True)\n",
    "    price_rate.columns = [f'rolling_price_rate_{i}' for i in price_rate.columns]\n",
    "\n",
    "    return pd.concat([sale.reset_index().set_index('performance_label')[[i for i in sale.columns if 'rolling_meansale_' in i]],\n",
    "                      time.reset_index().set_index('performance_label')[[i for i in time.columns if 'rolling_tran_gap_' in i]],\n",
    "                      price_rate.reset_index().set_index('performance_label')[[i for i in price_rate.columns if 'rolling_price_rate_' in i]]], axis=1)"
   ]
  },
  {
   "cell_type": "markdown",
   "id": "d130c892",
   "metadata": {},
   "source": [
    "- `TARGET` 생성<br>\n",
    "  :클러스터별 좌석예매수"
   ]
  },
  {
   "cell_type": "code",
   "execution_count": 14,
   "id": "2132bca0",
   "metadata": {},
   "outputs": [],
   "source": [
    "def target(DATA):\n",
    "    target = pd.pivot_table(DATA, index=['play_date','performance_label'], columns='cluster', values='seat_label',\n",
    "                            aggfunc=np.size, fill_value=0)\\\n",
    "             .divide(DATA.groupby('cluster')['seat_label'].nunique(), axis=1).reset_index()\n",
    "    target.columns=target.columns.tolist()[:2] + [f'TARGET_{i}' for i in target.columns[2:]]\n",
    "    return target.set_index('performance_label')[[i for i in target.columns if 'TARGET' in i]]"
   ]
  },
  {
   "cell_type": "markdown",
   "id": "a3db8941",
   "metadata": {},
   "source": [
    "## Merge features & target"
   ]
  },
  {
   "cell_type": "code",
   "execution_count": 15,
   "id": "0f8444b8",
   "metadata": {},
   "outputs": [
    {
     "name": "stdout",
     "output_type": "stream",
     "text": [
      "데이터 크기: (344, 95)\n"
     ]
    }
   ],
   "source": [
    "# 교향곡\n",
    "symphony_feature = pd.concat([basic_features(data_symphony), \n",
    "                              seat_features(data_symphony), seat_rolling_features(data_symphony),\n",
    "                              price_features(data_symphony),\n",
    "                              gap_features(data_symphony), gap_rolling_features(data_symphony),\n",
    "                              W2V(data_symphony),\n",
    "                              cluster_features(data_symphony), cluster_rolling_features(data_symphony),\n",
    "                              target(data_symphony)], axis=1)\n",
    "print(f'데이터 크기: {symphony_feature.shape}')\n",
    "\n",
    "# 결측치를 처리한다.\n",
    "symphony_feature = symphony_feature.fillna(0)"
   ]
  },
  {
   "cell_type": "code",
   "execution_count": 16,
   "id": "f1d245f9",
   "metadata": {},
   "outputs": [
    {
     "name": "stdout",
     "output_type": "stream",
     "text": [
      "데이터 크기: (69, 102)\n"
     ]
    }
   ],
   "source": [
    "# 합창\n",
    "chorus_feature = pd.concat([basic_features(data_chorus), \n",
    "                            seat_features(data_chorus), seat_rolling_features(data_chorus),\n",
    "                            price_features(data_chorus),\n",
    "                            gap_features(data_chorus), gap_rolling_features(data_chorus),\n",
    "                            W2V(data_chorus),\n",
    "                            cluster_features(data_chorus), cluster_rolling_features(data_chorus),\n",
    "                            target(data_chorus)], axis=1)\n",
    "print(f'데이터 크기: {chorus_feature.shape}')\n",
    "\n",
    "# 결측치를 처리한다.\n",
    "chorus_feature = chorus_feature.fillna(0)"
   ]
  },
  {
   "cell_type": "code",
   "execution_count": 17,
   "id": "ea256046",
   "metadata": {},
   "outputs": [
    {
     "name": "stdout",
     "output_type": "stream",
     "text": [
      "데이터 크기: (28, 102)\n"
     ]
    }
   ],
   "source": [
    "# 성악\n",
    "voice_feature = pd.concat([basic_features(data_voice), \n",
    "                          seat_features(data_voice), seat_rolling_features(data_voice),\n",
    "                          price_features(data_voice),\n",
    "                          gap_features(data_voice), gap_rolling_features(data_voice),\n",
    "                          W2V(data_voice),\n",
    "                          cluster_features(data_voice), cluster_rolling_features(data_voice),\n",
    "                          target(data_voice)], axis=1)\n",
    "print(f'데이터 크기: {voice_feature.shape}')\n",
    "\n",
    "# 결측치를 처리한다.\n",
    "voice_feature = voice_feature.fillna(0)"
   ]
  },
  {
   "cell_type": "code",
   "execution_count": 18,
   "id": "e2206d98",
   "metadata": {},
   "outputs": [
    {
     "name": "stdout",
     "output_type": "stream",
     "text": [
      "데이터 크기: (39, 102)\n"
     ]
    }
   ],
   "source": [
    "# 독주\n",
    "solo_feature = pd.concat([basic_features(data_solo), \n",
    "                          seat_features(data_solo), seat_rolling_features(data_solo),\n",
    "                          price_features(data_solo),\n",
    "                          gap_features(data_solo), gap_rolling_features(data_solo),\n",
    "                          W2V(data_solo),\n",
    "                          cluster_features(data_solo), cluster_rolling_features(data_solo),\n",
    "                          target(data_solo)], axis=1)\n",
    "print(f'데이터 크기: {solo_feature.shape}')\n",
    "\n",
    "# 결측치를 처리한다.\n",
    "solo_feature = solo_feature.fillna(0)"
   ]
  },
  {
   "cell_type": "code",
   "execution_count": 19,
   "id": "3a5ffbce",
   "metadata": {},
   "outputs": [
    {
     "name": "stdout",
     "output_type": "stream",
     "text": [
      "데이터 크기: (26, 95)\n"
     ]
    }
   ],
   "source": [
    "# 실내악\n",
    "chamber_feature = pd.concat([basic_features(data_chamber), \n",
    "                              seat_features(data_chamber), seat_rolling_features(data_chamber),\n",
    "                              price_features(data_chamber),\n",
    "                              gap_features(data_chamber), gap_rolling_features(data_chamber),\n",
    "                              W2V(data_chamber),\n",
    "                              cluster_features(data_chamber), cluster_rolling_features(data_chamber),\n",
    "                              target(data_chamber)], axis=1)\n",
    "print(f'데이터 크기: {chamber_feature.shape}')\n",
    "\n",
    "# 결측치를 처리한다.\n",
    "chamber_feature = chamber_feature.fillna(0)"
   ]
  },
  {
   "cell_type": "markdown",
   "id": "f57d36dd",
   "metadata": {},
   "source": [
    "## Save data"
   ]
  },
  {
   "cell_type": "code",
   "execution_count": 20,
   "id": "18a9613a",
   "metadata": {},
   "outputs": [],
   "source": [
    "pickle.dump((symphony_feature, chorus_feature, voice_feature, solo_feature, chamber_feature), \n",
    "            open(f'../data/SaleRatePredictionFeatures.pkl', 'wb'))"
   ]
  },
  {
   "cell_type": "code",
   "execution_count": null,
   "id": "c6493259",
   "metadata": {},
   "outputs": [],
   "source": []
  }
 ],
 "metadata": {
  "kernelspec": {
   "display_name": "Python 3 (ipykernel)",
   "language": "python",
   "name": "python3"
  },
  "language_info": {
   "codemirror_mode": {
    "name": "ipython",
    "version": 3
   },
   "file_extension": ".py",
   "mimetype": "text/x-python",
   "name": "python",
   "nbconvert_exporter": "python",
   "pygments_lexer": "ipython3",
   "version": "3.9.12"
  }
 },
 "nbformat": 4,
 "nbformat_minor": 5
}
